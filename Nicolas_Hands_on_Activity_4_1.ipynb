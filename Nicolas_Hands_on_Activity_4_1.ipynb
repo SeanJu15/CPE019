{
  "nbformat": 4,
  "nbformat_minor": 0,
  "metadata": {
    "colab": {
      "provenance": []
    },
    "kernelspec": {
      "name": "python3",
      "display_name": "Python 3"
    },
    "language_info": {
      "name": "python"
    }
  },
  "cells": [
    {
      "cell_type": "markdown",
      "source": [
        "| <h1> Hands-on Activity 4.1 </h1> | <h1> Advanced Data Analytics and Machine Learning </h1> |\n",
        "|--- | --- |\n",
        "Name: Nicolas, Sean Julian S.<br>\n",
        "Course and Section: CPE019S3 <br>\n",
        "Instructor: Engr. Roman Richard\n",
        "Date Performed: February 21, 2024\n",
        "Date Submitted: February 23, 2024\n",
        "\n",
        "<hr>\n",
        "\n",
        "\n",
        "\n",
        "\n",
        "\n"
      ],
      "metadata": {
        "id": "oUI8-Ud7uMS_"
      }
    },
    {
      "cell_type": "markdown",
      "source": [
        "**PART 1: Do the following objectives**\n",
        "1. Part 1: Import the Libraries and Data\n",
        "\n",
        "\n"
      ],
      "metadata": {
        "id": "LRSCidJt1AAA"
      }
    },
    {
      "cell_type": "code",
      "source": [
        "import numpy as np\n",
        "import pandas as pd\n",
        "import matplotlib.pyplot as plt\n",
        "from sklearn.linear_model import LinearRegression\n",
        "\n",
        "titanic = pd.read_csv(\"titanic_train.csv\")"
      ],
      "metadata": {
        "id": "0kH9lerq1H2W"
      },
      "execution_count": 1,
      "outputs": []
    },
    {
      "cell_type": "code",
      "source": [
        "titanic[\"Age\"].fillna(titanic[\"Age\"].mean(), inplace=True)"
      ],
      "metadata": {
        "id": "O1YL562XG_gu"
      },
      "execution_count": 2,
      "outputs": []
    },
    {
      "cell_type": "markdown",
      "source": [
        "2. Part 2: Plot the Data\n"
      ],
      "metadata": {
        "id": "ObnK5xrh1GU3"
      }
    },
    {
      "cell_type": "code",
      "source": [
        "plt.scatter(titanic['Age'], titanic['Survived'])"
      ],
      "metadata": {
        "colab": {
          "base_uri": "https://localhost:8080/",
          "height": 447
        },
        "id": "L6KfJX2y2DcF",
        "outputId": "a77c9d19-45a8-405d-fc64-087d53476529"
      },
      "execution_count": 3,
      "outputs": [
        {
          "output_type": "execute_result",
          "data": {
            "text/plain": [
              "<matplotlib.collections.PathCollection at 0x7e8dac675570>"
            ]
          },
          "metadata": {},
          "execution_count": 3
        },
        {
          "output_type": "display_data",
          "data": {
            "text/plain": [
              "<Figure size 640x480 with 1 Axes>"
            ],
            "image/png": "[encoded data removed]"
          },
          "metadata": {}
        }
      ]
    },
    {
      "cell_type": "markdown",
      "source": [
        "3. Part 3: Perform Simple Linear Regression on the SURVIVAL feature column (you can check the internet on how you can perform simple linear regression)"
      ],
      "metadata": {
        "id": "33PRNLf11HOG"
      }
    },
    {
      "cell_type": "code",
      "source": [
        "model = LinearRegression()"
      ],
      "metadata": {
        "id": "wTn4wkLS189Q"
      },
      "execution_count": 4,
      "outputs": []
    },
    {
      "cell_type": "code",
      "source": [
        "x = titanic[\"Age\"].values.reshape(-1,1)\n",
        "y = titanic[\"Survived\"].values.reshape(-1,1)"
      ],
      "metadata": {
        "id": "jRyfGR9CAv_v"
      },
      "execution_count": 5,
      "outputs": []
    },
    {
      "cell_type": "code",
      "source": [
        "model.fit(x,y)\n",
        "y_pred = model.predict(x)"
      ],
      "metadata": {
        "id": "Pb45reXuGaG9"
      },
      "execution_count": 6,
      "outputs": []
    },
    {
      "cell_type": "code",
      "source": [
        "plt.scatter(x,y)\n",
        "plt.plot(x,y_pred, color='red')\n",
        "plt.show"
      ],
      "metadata": {
        "colab": {
          "base_uri": "https://localhost:8080/",
          "height": 599
        },
        "id": "BFuPoz4qHNrO",
        "outputId": "da7bc50e-96e8-437a-dda8-68ed1ad36caa"
      },
      "execution_count": 7,
      "outputs": [
        {
          "output_type": "execute_result",
          "data": {
            "text/plain": [
              "<function matplotlib.pyplot.show(close=None, block=None)>"
            ],
            "text/html": [
              "<div style=\"max-width:800px; border: 1px solid var(--colab-border-color);\"><style>\n",
              "      pre.function-repr-contents {\n",
              "        overflow-x: auto;\n",
              "        padding: 8px 12px;\n",
              "        max-height: 500px;\n",
              "      }\n",
              "\n",
              "      pre.function-repr-contents.function-repr-contents-collapsed {\n",
              "        cursor: pointer;\n",
              "        max-height: 100px;\n",
              "      }\n",
              "    </style>\n",
              "    <pre style=\"white-space: initial; background:\n",
              "         var(--colab-secondary-surface-color); padding: 8px 12px;\n",
              "         border-bottom: 1px solid var(--colab-border-color);\"><b>matplotlib.pyplot.show</b><br/>def show(*args, **kwargs)</pre><pre class=\"function-repr-contents function-repr-contents-collapsed\" style=\"\"><a class=\"filepath\" style=\"display:none\" href=\"#\">/usr/local/lib/python3.10/dist-packages/matplotlib/pyplot.py</a>Display all open figures.\n",
              "\n",
              "Parameters\n",
              "----------\n",
              "block : bool, optional\n",
              "    Whether to wait for all figures to be closed before returning.\n",
              "\n",
              "    If `True` block and run the GUI main loop until all figure windows\n",
              "    are closed.\n",
              "\n",
              "    If `False` ensure that all figure windows are displayed and return\n",
              "    immediately.  In this case, you are responsible for ensuring\n",
              "    that the event loop is running to have responsive figures.\n",
              "\n",
              "    Defaults to True in non-interactive mode and to False in interactive\n",
              "    mode (see `.pyplot.isinteractive`).\n",
              "\n",
              "See Also\n",
              "--------\n",
              "ion : Enable interactive mode, which shows / updates the figure after\n",
              "      every plotting command, so that calling ``show()`` is not necessary.\n",
              "ioff : Disable interactive mode.\n",
              "savefig : Save the figure to an image file instead of showing it on screen.\n",
              "\n",
              "Notes\n",
              "-----\n",
              "**Saving figures to file and showing a window at the same time**\n",
              "\n",
              "If you want an image file as well as a user interface window, use\n",
              "`.pyplot.savefig` before `.pyplot.show`. At the end of (a blocking)\n",
              "``show()`` the figure is closed and thus unregistered from pyplot. Calling\n",
              "`.pyplot.savefig` afterwards would save a new and thus empty figure. This\n",
              "limitation of command order does not apply if the show is non-blocking or\n",
              "if you keep a reference to the figure and use `.Figure.savefig`.\n",
              "\n",
              "**Auto-show in jupyter notebooks**\n",
              "\n",
              "The jupyter backends (activated via ``%matplotlib inline``,\n",
              "``%matplotlib notebook``, or ``%matplotlib widget``), call ``show()`` at\n",
              "the end of every cell by default. Thus, you usually don&#x27;t have to call it\n",
              "explicitly there.</pre>\n",
              "      <script>\n",
              "      if (google.colab.kernel.accessAllowed && google.colab.files && google.colab.files.view) {\n",
              "        for (const element of document.querySelectorAll('.filepath')) {\n",
              "          element.style.display = 'block'\n",
              "          element.onclick = (event) => {\n",
              "            event.preventDefault();\n",
              "            event.stopPropagation();\n",
              "            google.colab.files.view(element.textContent, 401);\n",
              "          };\n",
              "        }\n",
              "      }\n",
              "      for (const element of document.querySelectorAll('.function-repr-contents')) {\n",
              "        element.onclick = (event) => {\n",
              "          event.preventDefault();\n",
              "          event.stopPropagation();\n",
              "          element.classList.toggle('function-repr-contents-collapsed');\n",
              "        };\n",
              "      }\n",
              "      </script>\n",
              "      </div>"
            ]
          },
          "metadata": {},
          "execution_count": 7
        },
        {
          "output_type": "display_data",
          "data": {
            "text/plain": [
              "<Figure size 640x480 with 1 Axes>"
            ],
            "image/png": "[encoded data removed]"
          },
          "metadata": {}
        }
      ]
    },
    {
      "cell_type": "markdown",
      "source": [
        "#### Observation:\n",
        "- Simple linear regression is not enough to provide a good visualization with the relation of variables to the survivability of the passengers in the titanic"
      ],
      "metadata": {
        "id": "IQW35pNn9Z56"
      }
    },
    {
      "cell_type": "markdown",
      "source": [
        "<hr>"
      ],
      "metadata": {
        "id": "FZFyKlwx9209"
      }
    },
    {
      "cell_type": "markdown",
      "source": [
        "**PART 2: Perform the DECISION TREE classification activity**\n",
        "\n",
        "Part 1: Create a Decision Tree Classifier\n",
        "- In this part of the lab, you will create a decision tree classifier that will learn from a labelled dataset.\n",
        "The dataset contains the names and demographic details for each passenger. In addition, details of the\n",
        "passengers' trip are included. From this data, we can be build a decision tree that illustrates the factors that\n",
        "contributed to survivability, or lack of it, for the voyage.\n",
        "The datasets contain the following variables:"
      ],
      "metadata": {
        "id": "keIuu4iD1D4O"
      }
    },
    {
      "cell_type": "markdown",
      "source": [
        "![image.png](data:image/png;base64,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)"
      ],
      "metadata": {
        "id": "PnGY5Ei2xcL3"
      }
    },
    {
      "cell_type": "markdown",
      "source": [
        "With the data above, what kinds of questions can we ask about the factors that contributed to passengers\n",
        "surviving or perishing in the Titanic disaster?\n",
        "\n",
        "\n",
        "- Did Age or Gender played a role in the survivability of the passengers in the Titanic\n",
        "- What Age has the highest death count\n",
        "- Did the type of Passenger ticket class affect the survivability of the passengers\n",
        "- Do most passengers with the higher fair survived the Titanic"
      ],
      "metadata": {
        "id": "d8aYQD57xe3I"
      }
    },
    {
      "cell_type": "markdown",
      "source": [
        "Step 1: Create the dataframe\n",
        "\n",
        "a) Import pandas and the csv file\n",
        "First, import pandas and create a dataframe from the Titanic training data set, which is stored in the titanic-\n",
        "train.csv file. Use the pd.read_csv() method"
      ],
      "metadata": {
        "id": "Nb0qEeucxlAt"
      }
    },
    {
      "cell_type": "code",
      "source": [
        "#Code cell 1\n",
        "\n",
        "#import pandas\n",
        "import pandas as pd\n",
        "#create a pandas dataframe called \"training\" from the titanic-train.csv file\n",
        "training = pd.read_csv(\"titanic_train.csv\")"
      ],
      "metadata": {
        "id": "q34On4QyxnlP"
      },
      "execution_count": 8,
      "outputs": []
    },
    {
      "cell_type": "markdown",
      "source": [
        "b) Verify the import and take a look at the data."
      ],
      "metadata": {
        "id": "0xI9f0Vex-m_"
      }
    },
    {
      "cell_type": "code",
      "source": [
        "#Code cell 2\n",
        "#verify the contents of the training dataframe using the pandas info() method.\n",
        "training.info()"
      ],
      "metadata": {
        "colab": {
          "base_uri": "https://localhost:8080/"
        },
        "id": "kx_UIvmUyDG4",
        "outputId": "6be94a49-6d96-47d2-9a3b-c0404d8a14dd"
      },
      "execution_count": 9,
      "outputs": [
        {
          "output_type": "stream",
          "name": "stdout",
          "text": [
            "<class 'pandas.core.frame.DataFrame'>\n",
            "RangeIndex: 891 entries, 0 to 890\n",
            "Data columns (total 12 columns):\n",
            " #   Column       Non-Null Count  Dtype  \n",
            "---  ------       --------------  -----  \n",
            " 0   PassengerId  891 non-null    int64  \n",
            " 1   Survived     891 non-null    int64  \n",
            " 2   Pclass       891 non-null    int64  \n",
            " 3   Name         891 non-null    object \n",
            " 4   Sex          891 non-null    object \n",
            " 5   Age          714 non-null    float64\n",
            " 6   SibSp        891 non-null    int64  \n",
            " 7   Parch        891 non-null    int64  \n",
            " 8   Ticket       891 non-null    object \n",
            " 9   Fare         891 non-null    float64\n",
            " 10  Cabin        204 non-null    object \n",
            " 11  Embarked     889 non-null    object \n",
            "dtypes: float64(2), int64(5), object(5)\n",
            "memory usage: 83.7+ KB\n"
          ]
        }
      ]
    },
    {
      "cell_type": "markdown",
      "source": [
        "Are there missing values in the data set?\n",
        "\n",
        "- There are 177 missing values in the Age column"
      ],
      "metadata": {
        "id": "yxq2Dxe2yH74"
      }
    },
    {
      "cell_type": "code",
      "source": [
        "#Code cell 3\n",
        "#view the first few rows of the data\n",
        "training.head()"
      ],
      "metadata": {
        "colab": {
          "base_uri": "https://localhost:8080/",
          "height": 258
        },
        "id": "lyij38VjyIyv",
        "outputId": "0eddfd5d-e5fd-4912-befa-8d9ad985af66"
      },
      "execution_count": 10,
      "outputs": [
        {
          "output_type": "execute_result",
          "data": {
            "text/plain": [
              "   PassengerId  Survived  Pclass  \\\n",
              "0            1         0       3   \n",
              "1            2         1       1   \n",
              "2            3         1       3   \n",
              "3            4         1       1   \n",
              "4            5         0       3   \n",
              "\n",
              "                                                Name     Sex   Age  SibSp  \\\n",
              "0                            Braund, Mr. Owen Harris    male  22.0      1   \n",
              "1  Cumings, Mrs. John Bradley (Florence Briggs Th...  female  38.0      1   \n",
              "2                             Heikkinen, Miss. Laina  female  26.0      0   \n",
              "3       Futrelle, Mrs. Jacques Heath (Lily May Peel)  female  35.0      1   \n",
              "4                           Allen, Mr. William Henry    male  35.0      0   \n",
              "\n",
              "   Parch            Ticket     Fare Cabin Embarked  \n",
              "0      0         A/5 21171   7.2500   NaN        S  \n",
              "1      0          PC 17599  71.2833   C85        C  \n",
              "2      0  STON/O2. 3101282   7.9250   NaN        S  \n",
              "3      0            113803  53.1000  C123        S  \n",
              "4      0            373450   8.0500   NaN        S  "
            ],
            "text/html": [
              "\n",
              "  <div id=\"df-0bba7cd5-06d4-4b34-bee4-d0c5a15e22f6\" class=\"colab-df-container\">\n",
              "    <div>\n",
              "<style scoped>\n",
              "    .dataframe tbody tr th:only-of-type {\n",
              "        vertical-align: middle;\n",
              "    }\n",
              "\n",
              "    .dataframe tbody tr th {\n",
              "        vertical-align: top;\n",
              "    }\n",
              "\n",
              "    .dataframe thead th {\n",
              "        text-align: right;\n",
              "    }\n",
              "</style>\n",
              "<table border=\"1\" class=\"dataframe\">\n",
              "  <thead>\n",
              "    <tr style=\"text-align: right;\">\n",
              "      <th></th>\n",
              "      <th>PassengerId</th>\n",
              "      <th>Survived</th>\n",
              "      <th>Pclass</th>\n",
              "      <th>Name</th>\n",
              "      <th>Sex</th>\n",
              "      <th>Age</th>\n",
              "      <th>SibSp</th>\n",
              "      <th>Parch</th>\n",
              "      <th>Ticket</th>\n",
              "      <th>Fare</th>\n",
              "      <th>Cabin</th>\n",
              "      <th>Embarked</th>\n",
              "    </tr>\n",
              "  </thead>\n",
              "  <tbody>\n",
              "    <tr>\n",
              "      <th>0</th>\n",
              "      <td>1</td>\n",
              "      <td>0</td>\n",
              "      <td>3</td>\n",
              "      <td>Braund, Mr. Owen Harris</td>\n",
              "      <td>male</td>\n",
              "      <td>22.0</td>\n",
              "      <td>1</td>\n",
              "      <td>0</td>\n",
              "      <td>A/5 21171</td>\n",
              "      <td>7.2500</td>\n",
              "      <td>NaN</td>\n",
              "      <td>S</td>\n",
              "    </tr>\n",
              "    <tr>\n",
              "      <th>1</th>\n",
              "      <td>2</td>\n",
              "      <td>1</td>\n",
              "      <td>1</td>\n",
              "      <td>Cumings, Mrs. John Bradley (Florence Briggs Th...</td>\n",
              "      <td>female</td>\n",
              "      <td>38.0</td>\n",
              "      <td>1</td>\n",
              "      <td>0</td>\n",
              "      <td>PC 17599</td>\n",
              "      <td>71.2833</td>\n",
              "      <td>C85</td>\n",
              "      <td>C</td>\n",
              "    </tr>\n",
              "    <tr>\n",
              "      <th>2</th>\n",
              "      <td>3</td>\n",
              "      <td>1</td>\n",
              "      <td>3</td>\n",
              "      <td>Heikkinen, Miss. Laina</td>\n",
              "      <td>female</td>\n",
              "      <td>26.0</td>\n",
              "      <td>0</td>\n",
              "      <td>0</td>\n",
              "      <td>STON/O2. 3101282</td>\n",
              "      <td>7.9250</td>\n",
              "      <td>NaN</td>\n",
              "      <td>S</td>\n",
              "    </tr>\n",
              "    <tr>\n",
              "      <th>3</th>\n",
              "      <td>4</td>\n",
              "      <td>1</td>\n",
              "      <td>1</td>\n",
              "      <td>Futrelle, Mrs. Jacques Heath (Lily May Peel)</td>\n",
              "      <td>female</td>\n",
              "      <td>35.0</td>\n",
              "      <td>1</td>\n",
              "      <td>0</td>\n",
              "      <td>113803</td>\n",
              "      <td>53.1000</td>\n",
              "      <td>C123</td>\n",
              "      <td>S</td>\n",
              "    </tr>\n",
              "    <tr>\n",
              "      <th>4</th>\n",
              "      <td>5</td>\n",
              "      <td>0</td>\n",
              "      <td>3</td>\n",
              "      <td>Allen, Mr. William Henry</td>\n",
              "      <td>male</td>\n",
              "      <td>35.0</td>\n",
              "      <td>0</td>\n",
              "      <td>0</td>\n",
              "      <td>373450</td>\n",
              "      <td>8.0500</td>\n",
              "      <td>NaN</td>\n",
              "      <td>S</td>\n",
              "    </tr>\n",
              "  </tbody>\n",
              "</table>\n",
              "</div>\n",
              "    <div class=\"colab-df-buttons\">\n",
              "\n",
              "  <div class=\"colab-df-container\">\n",
              "    <button class=\"colab-df-convert\" onclick=\"convertToInteractive('df-0bba7cd5-06d4-4b34-bee4-d0c5a15e22f6')\"\n",
              "            title=\"Convert this dataframe to an interactive table.\"\n",
              "            style=\"display:none;\">\n",
              "\n",
              "  <svg xmlns=\"http://www.w3.org/2000/svg\" height=\"24px\" viewBox=\"0 -960 960 960\">\n",
              "    <path d=\"M120-120v-720h720v720H120Zm60-500h600v-160H180v160Zm220 220h160v-160H400v160Zm0 220h160v-160H400v160ZM180-400h160v-160H180v160Zm440 0h160v-160H620v160ZM180-180h160v-160H180v160Zm440 0h160v-160H620v160Z\"/>\n",
              "  </svg>\n",
              "    </button>\n",
              "\n",
              "  <style>\n",
              "    .colab-df-container {\n",
              "      display:flex;\n",
              "      gap: 12px;\n",
              "    }\n",
              "\n",
              "    .colab-df-convert {\n",
              "      background-color: #E8F0FE;\n",
              "      border: none;\n",
              "      border-radius: 50%;\n",
              "      cursor: pointer;\n",
              "      display: none;\n",
              "      fill: #1967D2;\n",
              "      height: 32px;\n",
              "      padding: 0 0 0 0;\n",
              "      width: 32px;\n",
              "    }\n",
              "\n",
              "    .colab-df-convert:hover {\n",
              "      background-color: #E2EBFA;\n",
              "      box-shadow: 0px 1px 2px rgba(60, 64, 67, 0.3), 0px 1px 3px 1px rgba(60, 64, 67, 0.15);\n",
              "      fill: #174EA6;\n",
              "    }\n",
              "\n",
              "    .colab-df-buttons div {\n",
              "      margin-bottom: 4px;\n",
              "    }\n",
              "\n",
              "    [theme=dark] .colab-df-convert {\n",
              "      background-color: #3B4455;\n",
              "      fill: #D2E3FC;\n",
              "    }\n",
              "\n",
              "    [theme=dark] .colab-df-convert:hover {\n",
              "      background-color: #434B5C;\n",
              "      box-shadow: 0px 1px 3px 1px rgba(0, 0, 0, 0.15);\n",
              "      filter: drop-shadow(0px 1px 2px rgba(0, 0, 0, 0.3));\n",
              "      fill: #FFFFFF;\n",
              "    }\n",
              "  </style>\n",
              "\n",
              "    <script>\n",
              "      const buttonEl =\n",
              "        document.querySelector('#df-0bba7cd5-06d4-4b34-bee4-d0c5a15e22f6 button.colab-df-convert');\n",
              "      buttonEl.style.display =\n",
              "        google.colab.kernel.accessAllowed ? 'block' : 'none';\n",
              "\n",
              "      async function convertToInteractive(key) {\n",
              "        const element = document.querySelector('#df-0bba7cd5-06d4-4b34-bee4-d0c5a15e22f6');\n",
              "        const dataTable =\n",
              "          await google.colab.kernel.invokeFunction('convertToInteractive',\n",
              "                                                    [key], {});\n",
              "        if (!dataTable) return;\n",
              "\n",
              "        const docLinkHtml = 'Like what you see? Visit the ' +\n",
              "          '<a target=\"_blank\" href=https://colab.research.google.com/notebooks/data_table.ipynb>data table notebook</a>'\n",
              "          + ' to learn more about interactive tables.';\n",
              "        element.innerHTML = '';\n",
              "        dataTable['output_type'] = 'display_data';\n",
              "        await google.colab.output.renderOutput(dataTable, element);\n",
              "        const docLink = document.createElement('div');\n",
              "        docLink.innerHTML = docLinkHtml;\n",
              "        element.appendChild(docLink);\n",
              "      }\n",
              "    </script>\n",
              "  </div>\n",
              "\n",
              "\n",
              "<div id=\"df-1a1164a7-2898-4b9f-809b-78aea757e57a\">\n",
              "  <button class=\"colab-df-quickchart\" onclick=\"quickchart('df-1a1164a7-2898-4b9f-809b-78aea757e57a')\"\n",
              "            title=\"Suggest charts\"\n",
              "            style=\"display:none;\">\n",
              "\n",
              "<svg xmlns=\"http://www.w3.org/2000/svg\" height=\"24px\"viewBox=\"0 0 24 24\"\n",
              "     width=\"24px\">\n",
              "    <g>\n",
              "        <path d=\"M19 3H5c-1.1 0-2 .9-2 2v14c0 1.1.9 2 2 2h14c1.1 0 2-.9 2-2V5c0-1.1-.9-2-2-2zM9 17H7v-7h2v7zm4 0h-2V7h2v10zm4 0h-2v-4h2v4z\"/>\n",
              "    </g>\n",
              "</svg>\n",
              "  </button>\n",
              "\n",
              "<style>\n",
              "  .colab-df-quickchart {\n",
              "      --bg-color: #E8F0FE;\n",
              "      --fill-color: #1967D2;\n",
              "      --hover-bg-color: #E2EBFA;\n",
              "      --hover-fill-color: #174EA6;\n",
              "      --disabled-fill-color: #AAA;\n",
              "      --disabled-bg-color: #DDD;\n",
              "  }\n",
              "\n",
              "  [theme=dark] .colab-df-quickchart {\n",
              "      --bg-color: #3B4455;\n",
              "      --fill-color: #D2E3FC;\n",
              "      --hover-bg-color: #434B5C;\n",
              "      --hover-fill-color: #FFFFFF;\n",
              "      --disabled-bg-color: #3B4455;\n",
              "      --disabled-fill-color: #666;\n",
              "  }\n",
              "\n",
              "  .colab-df-quickchart {\n",
              "    background-color: var(--bg-color);\n",
              "    border: none;\n",
              "    border-radius: 50%;\n",
              "    cursor: pointer;\n",
              "    display: none;\n",
              "    fill: var(--fill-color);\n",
              "    height: 32px;\n",
              "    padding: 0;\n",
              "    width: 32px;\n",
              "  }\n",
              "\n",
              "  .colab-df-quickchart:hover {\n",
              "    background-color: var(--hover-bg-color);\n",
              "    box-shadow: 0 1px 2px rgba(60, 64, 67, 0.3), 0 1px 3px 1px rgba(60, 64, 67, 0.15);\n",
              "    fill: var(--button-hover-fill-color);\n",
              "  }\n",
              "\n",
              "  .colab-df-quickchart-complete:disabled,\n",
              "  .colab-df-quickchart-complete:disabled:hover {\n",
              "    background-color: var(--disabled-bg-color);\n",
              "    fill: var(--disabled-fill-color);\n",
              "    box-shadow: none;\n",
              "  }\n",
              "\n",
              "  .colab-df-spinner {\n",
              "    border: 2px solid var(--fill-color);\n",
              "    border-color: transparent;\n",
              "    border-bottom-color: var(--fill-color);\n",
              "    animation:\n",
              "      spin 1s steps(1) infinite;\n",
              "  }\n",
              "\n",
              "  @keyframes spin {\n",
              "    0% {\n",
              "      border-color: transparent;\n",
              "      border-bottom-color: var(--fill-color);\n",
              "      border-left-color: var(--fill-color);\n",
              "    }\n",
              "    20% {\n",
              "      border-color: transparent;\n",
              "      border-left-color: var(--fill-color);\n",
              "      border-top-color: var(--fill-color);\n",
              "    }\n",
              "    30% {\n",
              "      border-color: transparent;\n",
              "      border-left-color: var(--fill-color);\n",
              "      border-top-color: var(--fill-color);\n",
              "      border-right-color: var(--fill-color);\n",
              "    }\n",
              "    40% {\n",
              "      border-color: transparent;\n",
              "      border-right-color: var(--fill-color);\n",
              "      border-top-color: var(--fill-color);\n",
              "    }\n",
              "    60% {\n",
              "      border-color: transparent;\n",
              "      border-right-color: var(--fill-color);\n",
              "    }\n",
              "    80% {\n",
              "      border-color: transparent;\n",
              "      border-right-color: var(--fill-color);\n",
              "      border-bottom-color: var(--fill-color);\n",
              "    }\n",
              "    90% {\n",
              "      border-color: transparent;\n",
              "      border-bottom-color: var(--fill-color);\n",
              "    }\n",
              "  }\n",
              "</style>\n",
              "\n",
              "  <script>\n",
              "    async function quickchart(key) {\n",
              "      const quickchartButtonEl =\n",
              "        document.querySelector('#' + key + ' button');\n",
              "      quickchartButtonEl.disabled = true;  // To prevent multiple clicks.\n",
              "      quickchartButtonEl.classList.add('colab-df-spinner');\n",
              "      try {\n",
              "        const charts = await google.colab.kernel.invokeFunction(\n",
              "            'suggestCharts', [key], {});\n",
              "      } catch (error) {\n",
              "        console.error('Error during call to suggestCharts:', error);\n",
              "      }\n",
              "      quickchartButtonEl.classList.remove('colab-df-spinner');\n",
              "      quickchartButtonEl.classList.add('colab-df-quickchart-complete');\n",
              "    }\n",
              "    (() => {\n",
              "      let quickchartButtonEl =\n",
              "        document.querySelector('#df-1a1164a7-2898-4b9f-809b-78aea757e57a button');\n",
              "      quickchartButtonEl.style.display =\n",
              "        google.colab.kernel.accessAllowed ? 'block' : 'none';\n",
              "    })();\n",
              "  </script>\n",
              "</div>\n",
              "    </div>\n",
              "  </div>\n"
            ],
            "application/vnd.google.colaboratory.intrinsic+json": {
              "type": "dataframe",
              "variable_name": "training",
              "summary": "{\n  \"name\": \"training\",\n  \"rows\": 891,\n  \"fields\": [\n    {\n      \"column\": \"PassengerId\",\n      \"properties\": {\n        \"dtype\": \"number\",\n        \"std\": 257,\n        \"min\": 1,\n        \"max\": 891,\n        \"num_unique_values\": 891,\n        \"samples\": [\n          710,\n          440,\n          841\n        ],\n        \"semantic_type\": \"\",\n        \"description\": \"\"\n      }\n    },\n    {\n      \"column\": \"Survived\",\n      \"properties\": {\n        \"dtype\": \"number\",\n        \"std\": 0,\n        \"min\": 0,\n        \"max\": 1,\n        \"num_unique_values\": 2,\n        \"samples\": [\n          1,\n          0\n        ],\n        \"semantic_type\": \"\",\n        \"description\": \"\"\n      }\n    },\n    {\n      \"column\": \"Pclass\",\n      \"properties\": {\n        \"dtype\": \"number\",\n        \"std\": 0,\n        \"min\": 1,\n        \"max\": 3,\n        \"num_unique_values\": 3,\n        \"samples\": [\n          3,\n          1\n        ],\n        \"semantic_type\": \"\",\n        \"description\": \"\"\n      }\n    },\n    {\n      \"column\": \"Name\",\n      \"properties\": {\n        \"dtype\": \"string\",\n        \"num_unique_values\": 891,\n        \"samples\": [\n          \"Moubarek, Master. Halim Gonios (\\\"William George\\\")\",\n          \"Kvillner, Mr. Johan Henrik Johannesson\"\n        ],\n        \"semantic_type\": \"\",\n        \"description\": \"\"\n      }\n    },\n    {\n      \"column\": \"Sex\",\n      \"properties\": {\n        \"dtype\": \"category\",\n        \"num_unique_values\": 2,\n        \"samples\": [\n          \"female\",\n          \"male\"\n        ],\n        \"semantic_type\": \"\",\n        \"description\": \"\"\n      }\n    },\n    {\n      \"column\": \"Age\",\n      \"properties\": {\n        \"dtype\": \"number\",\n        \"std\": 14.526497332334042,\n        \"min\": 0.42,\n        \"max\": 80.0,\n        \"num_unique_values\": 88,\n        \"samples\": [\n          0.75,\n          22.0\n        ],\n        \"semantic_type\": \"\",\n        \"description\": \"\"\n      }\n    },\n    {\n      \"column\": \"SibSp\",\n      \"properties\": {\n        \"dtype\": \"number\",\n        \"std\": 1,\n        \"min\": 0,\n        \"max\": 8,\n        \"num_unique_values\": 7,\n        \"samples\": [\n          1,\n          0\n        ],\n        \"semantic_type\": \"\",\n        \"description\": \"\"\n      }\n    },\n    {\n      \"column\": \"Parch\",\n      \"properties\": {\n        \"dtype\": \"number\",\n        \"std\": 0,\n        \"min\": 0,\n        \"max\": 6,\n        \"num_unique_values\": 7,\n        \"samples\": [\n          0,\n          1\n        ],\n        \"semantic_type\": \"\",\n        \"description\": \"\"\n      }\n    },\n    {\n      \"column\": \"Ticket\",\n      \"properties\": {\n        \"dtype\": \"string\",\n        \"num_unique_values\": 681,\n        \"samples\": [\n          \"11774\",\n          \"248740\"\n        ],\n        \"semantic_type\": \"\",\n        \"description\": \"\"\n      }\n    },\n    {\n      \"column\": \"Fare\",\n      \"properties\": {\n        \"dtype\": \"number\",\n        \"std\": 49.6934285971809,\n        \"min\": 0.0,\n        \"max\": 512.3292,\n        \"num_unique_values\": 248,\n        \"samples\": [\n          11.2417,\n          51.8625\n        ],\n        \"semantic_type\": \"\",\n        \"description\": \"\"\n      }\n    },\n    {\n      \"column\": \"Cabin\",\n      \"properties\": {\n        \"dtype\": \"category\",\n        \"num_unique_values\": 147,\n        \"samples\": [\n          \"D45\",\n          \"B49\"\n        ],\n        \"semantic_type\": \"\",\n        \"description\": \"\"\n      }\n    },\n    {\n      \"column\": \"Embarked\",\n      \"properties\": {\n        \"dtype\": \"category\",\n        \"num_unique_values\": 3,\n        \"samples\": [\n          \"S\",\n          \"C\"\n        ],\n        \"semantic_type\": \"\",\n        \"description\": \"\"\n      }\n    }\n  ]\n}"
            }
          },
          "metadata": {},
          "execution_count": 10
        }
      ]
    },
    {
      "cell_type": "markdown",
      "source": [
        "Step 2: Prepare the Data for the Decision Tree Model.\n",
        "\n",
        "a) Replace string data with numeric labels\n",
        "\n",
        "We will use scikit-learn to create the decision trees. The decision tree model we will be using can only handle\n",
        "numeric data. The values for the Gender variable must be transformed into numeric representations. 0 will be\n",
        "used to represent \"male\" and 1 will represent \"female.\"\n",
        "In this code, a lambda expression is used with the apply() dataframe method.\n",
        "\n",
        " This lambda expression\n",
        "represents a function that uses a conditional statement to replace the text values in the columns with the\n",
        "appropriate numeric value. The lambda statement can be interpreted as \"if the parameter toLabel equals 'male',\n",
        "return 0, if the value is something else, return 1.\" The apply() method will execute this function on the values in\n",
        "every row of the \"Gender\" column of the dataframe."
      ],
      "metadata": {
        "id": "iGjOF8-3yOQn"
      }
    },
    {
      "cell_type": "code",
      "source": [
        "#code cell 4\n",
        "training[\"Sex\"] = training[\"Sex\"].apply(lambda toLabel: 0 if toLabel =='male' else 1)"
      ],
      "metadata": {
        "id": "76t_6DUiyP9o"
      },
      "execution_count": 11,
      "outputs": []
    },
    {
      "cell_type": "markdown",
      "source": [
        "b) Verify that the Gender variable has been changed.\n",
        "The output should show values of 0 or 1 for the Gender variable in the dataset."
      ],
      "metadata": {
        "id": "JueR8aBEyTLB"
      }
    },
    {
      "cell_type": "code",
      "source": [
        "#code cell 5\n",
        "#view the first few rows of the data again\n",
        "training.head()"
      ],
      "metadata": {
        "colab": {
          "base_uri": "https://localhost:8080/",
          "height": 241
        },
        "id": "4Jr6v2EvyUyI",
        "outputId": "8b43d4c6-7943-499b-9c65-0ae6a445bcff"
      },
      "execution_count": 12,
      "outputs": [
        {
          "output_type": "execute_result",
          "data": {
            "text/plain": [
              "   PassengerId  Survived  Pclass  \\\n",
              "0            1         0       3   \n",
              "1            2         1       1   \n",
              "2            3         1       3   \n",
              "3            4         1       1   \n",
              "4            5         0       3   \n",
              "\n",
              "                                                Name  Sex   Age  SibSp  Parch  \\\n",
              "0                            Braund, Mr. Owen Harris    0  22.0      1      0   \n",
              "1  Cumings, Mrs. John Bradley (Florence Briggs Th...    1  38.0      1      0   \n",
              "2                             Heikkinen, Miss. Laina    1  26.0      0      0   \n",
              "3       Futrelle, Mrs. Jacques Heath (Lily May Peel)    1  35.0      1      0   \n",
              "4                           Allen, Mr. William Henry    0  35.0      0      0   \n",
              "\n",
              "             Ticket     Fare Cabin Embarked  \n",
              "0         A/5 21171   7.2500   NaN        S  \n",
              "1          PC 17599  71.2833   C85        C  \n",
              "2  STON/O2. 3101282   7.9250   NaN        S  \n",
              "3            113803  53.1000  C123        S  \n",
              "4            373450   8.0500   NaN        S  "
            ],
            "text/html": [
              "\n",
              "  <div id=\"df-9c22ffed-96ed-424d-878a-51dd768c6397\" class=\"colab-df-container\">\n",
              "    <div>\n",
              "<style scoped>\n",
              "    .dataframe tbody tr th:only-of-type {\n",
              "        vertical-align: middle;\n",
              "    }\n",
              "\n",
              "    .dataframe tbody tr th {\n",
              "        vertical-align: top;\n",
              "    }\n",
              "\n",
              "    .dataframe thead th {\n",
              "        text-align: right;\n",
              "    }\n",
              "</style>\n",
              "<table border=\"1\" class=\"dataframe\">\n",
              "  <thead>\n",
              "    <tr style=\"text-align: right;\">\n",
              "      <th></th>\n",
              "      <th>PassengerId</th>\n",
              "      <th>Survived</th>\n",
              "      <th>Pclass</th>\n",
              "      <th>Name</th>\n",
              "      <th>Sex</th>\n",
              "      <th>Age</th>\n",
              "      <th>SibSp</th>\n",
              "      <th>Parch</th>\n",
              "      <th>Ticket</th>\n",
              "      <th>Fare</th>\n",
              "      <th>Cabin</th>\n",
              "      <th>Embarked</th>\n",
              "    </tr>\n",
              "  </thead>\n",
              "  <tbody>\n",
              "    <tr>\n",
              "      <th>0</th>\n",
              "      <td>1</td>\n",
              "      <td>0</td>\n",
              "      <td>3</td>\n",
              "      <td>Braund, Mr. Owen Harris</td>\n",
              "      <td>0</td>\n",
              "      <td>22.0</td>\n",
              "      <td>1</td>\n",
              "      <td>0</td>\n",
              "      <td>A/5 21171</td>\n",
              "      <td>7.2500</td>\n",
              "      <td>NaN</td>\n",
              "      <td>S</td>\n",
              "    </tr>\n",
              "    <tr>\n",
              "      <th>1</th>\n",
              "      <td>2</td>\n",
              "      <td>1</td>\n",
              "      <td>1</td>\n",
              "      <td>Cumings, Mrs. John Bradley (Florence Briggs Th...</td>\n",
              "      <td>1</td>\n",
              "      <td>38.0</td>\n",
              "      <td>1</td>\n",
              "      <td>0</td>\n",
              "      <td>PC 17599</td>\n",
              "      <td>71.2833</td>\n",
              "      <td>C85</td>\n",
              "      <td>C</td>\n",
              "    </tr>\n",
              "    <tr>\n",
              "      <th>2</th>\n",
              "      <td>3</td>\n",
              "      <td>1</td>\n",
              "      <td>3</td>\n",
              "      <td>Heikkinen, Miss. Laina</td>\n",
              "      <td>1</td>\n",
              "      <td>26.0</td>\n",
              "      <td>0</td>\n",
              "      <td>0</td>\n",
              "      <td>STON/O2. 3101282</td>\n",
              "      <td>7.9250</td>\n",
              "      <td>NaN</td>\n",
              "      <td>S</td>\n",
              "    </tr>\n",
              "    <tr>\n",
              "      <th>3</th>\n",
              "      <td>4</td>\n",
              "      <td>1</td>\n",
              "      <td>1</td>\n",
              "      <td>Futrelle, Mrs. Jacques Heath (Lily May Peel)</td>\n",
              "      <td>1</td>\n",
              "      <td>35.0</td>\n",
              "      <td>1</td>\n",
              "      <td>0</td>\n",
              "      <td>113803</td>\n",
              "      <td>53.1000</td>\n",
              "      <td>C123</td>\n",
              "      <td>S</td>\n",
              "    </tr>\n",
              "    <tr>\n",
              "      <th>4</th>\n",
              "      <td>5</td>\n",
              "      <td>0</td>\n",
              "      <td>3</td>\n",
              "      <td>Allen, Mr. William Henry</td>\n",
              "      <td>0</td>\n",
              "      <td>35.0</td>\n",
              "      <td>0</td>\n",
              "      <td>0</td>\n",
              "      <td>373450</td>\n",
              "      <td>8.0500</td>\n",
              "      <td>NaN</td>\n",
              "      <td>S</td>\n",
              "    </tr>\n",
              "  </tbody>\n",
              "</table>\n",
              "</div>\n",
              "    <div class=\"colab-df-buttons\">\n",
              "\n",
              "  <div class=\"colab-df-container\">\n",
              "    <button class=\"colab-df-convert\" onclick=\"convertToInteractive('df-9c22ffed-96ed-424d-878a-51dd768c6397')\"\n",
              "            title=\"Convert this dataframe to an interactive table.\"\n",
              "            style=\"display:none;\">\n",
              "\n",
              "  <svg xmlns=\"http://www.w3.org/2000/svg\" height=\"24px\" viewBox=\"0 -960 960 960\">\n",
              "    <path d=\"M120-120v-720h720v720H120Zm60-500h600v-160H180v160Zm220 220h160v-160H400v160Zm0 220h160v-160H400v160ZM180-400h160v-160H180v160Zm440 0h160v-160H620v160ZM180-180h160v-160H180v160Zm440 0h160v-160H620v160Z\"/>\n",
              "  </svg>\n",
              "    </button>\n",
              "\n",
              "  <style>\n",
              "    .colab-df-container {\n",
              "      display:flex;\n",
              "      gap: 12px;\n",
              "    }\n",
              "\n",
              "    .colab-df-convert {\n",
              "      background-color: #E8F0FE;\n",
              "      border: none;\n",
              "      border-radius: 50%;\n",
              "      cursor: pointer;\n",
              "      display: none;\n",
              "      fill: #1967D2;\n",
              "      height: 32px;\n",
              "      padding: 0 0 0 0;\n",
              "      width: 32px;\n",
              "    }\n",
              "\n",
              "    .colab-df-convert:hover {\n",
              "      background-color: #E2EBFA;\n",
              "      box-shadow: 0px 1px 2px rgba(60, 64, 67, 0.3), 0px 1px 3px 1px rgba(60, 64, 67, 0.15);\n",
              "      fill: #174EA6;\n",
              "    }\n",
              "\n",
              "    .colab-df-buttons div {\n",
              "      margin-bottom: 4px;\n",
              "    }\n",
              "\n",
              "    [theme=dark] .colab-df-convert {\n",
              "      background-color: #3B4455;\n",
              "      fill: #D2E3FC;\n",
              "    }\n",
              "\n",
              "    [theme=dark] .colab-df-convert:hover {\n",
              "      background-color: #434B5C;\n",
              "      box-shadow: 0px 1px 3px 1px rgba(0, 0, 0, 0.15);\n",
              "      filter: drop-shadow(0px 1px 2px rgba(0, 0, 0, 0.3));\n",
              "      fill: #FFFFFF;\n",
              "    }\n",
              "  </style>\n",
              "\n",
              "    <script>\n",
              "      const buttonEl =\n",
              "        document.querySelector('#df-9c22ffed-96ed-424d-878a-51dd768c6397 button.colab-df-convert');\n",
              "      buttonEl.style.display =\n",
              "        google.colab.kernel.accessAllowed ? 'block' : 'none';\n",
              "\n",
              "      async function convertToInteractive(key) {\n",
              "        const element = document.querySelector('#df-9c22ffed-96ed-424d-878a-51dd768c6397');\n",
              "        const dataTable =\n",
              "          await google.colab.kernel.invokeFunction('convertToInteractive',\n",
              "                                                    [key], {});\n",
              "        if (!dataTable) return;\n",
              "\n",
              "        const docLinkHtml = 'Like what you see? Visit the ' +\n",
              "          '<a target=\"_blank\" href=https://colab.research.google.com/notebooks/data_table.ipynb>data table notebook</a>'\n",
              "          + ' to learn more about interactive tables.';\n",
              "        element.innerHTML = '';\n",
              "        dataTable['output_type'] = 'display_data';\n",
              "        await google.colab.output.renderOutput(dataTable, element);\n",
              "        const docLink = document.createElement('div');\n",
              "        docLink.innerHTML = docLinkHtml;\n",
              "        element.appendChild(docLink);\n",
              "      }\n",
              "    </script>\n",
              "  </div>\n",
              "\n",
              "\n",
              "<div id=\"df-5df4ad05-c6eb-439b-af2b-6184af1a7b7b\">\n",
              "  <button class=\"colab-df-quickchart\" onclick=\"quickchart('df-5df4ad05-c6eb-439b-af2b-6184af1a7b7b')\"\n",
              "            title=\"Suggest charts\"\n",
              "            style=\"display:none;\">\n",
              "\n",
              "<svg xmlns=\"http://www.w3.org/2000/svg\" height=\"24px\"viewBox=\"0 0 24 24\"\n",
              "     width=\"24px\">\n",
              "    <g>\n",
              "        <path d=\"M19 3H5c-1.1 0-2 .9-2 2v14c0 1.1.9 2 2 2h14c1.1 0 2-.9 2-2V5c0-1.1-.9-2-2-2zM9 17H7v-7h2v7zm4 0h-2V7h2v10zm4 0h-2v-4h2v4z\"/>\n",
              "    </g>\n",
              "</svg>\n",
              "  </button>\n",
              "\n",
              "<style>\n",
              "  .colab-df-quickchart {\n",
              "      --bg-color: #E8F0FE;\n",
              "      --fill-color: #1967D2;\n",
              "      --hover-bg-color: #E2EBFA;\n",
              "      --hover-fill-color: #174EA6;\n",
              "      --disabled-fill-color: #AAA;\n",
              "      --disabled-bg-color: #DDD;\n",
              "  }\n",
              "\n",
              "  [theme=dark] .colab-df-quickchart {\n",
              "      --bg-color: #3B4455;\n",
              "      --fill-color: #D2E3FC;\n",
              "      --hover-bg-color: #434B5C;\n",
              "      --hover-fill-color: #FFFFFF;\n",
              "      --disabled-bg-color: #3B4455;\n",
              "      --disabled-fill-color: #666;\n",
              "  }\n",
              "\n",
              "  .colab-df-quickchart {\n",
              "    background-color: var(--bg-color);\n",
              "    border: none;\n",
              "    border-radius: 50%;\n",
              "    cursor: pointer;\n",
              "    display: none;\n",
              "    fill: var(--fill-color);\n",
              "    height: 32px;\n",
              "    padding: 0;\n",
              "    width: 32px;\n",
              "  }\n",
              "\n",
              "  .colab-df-quickchart:hover {\n",
              "    background-color: var(--hover-bg-color);\n",
              "    box-shadow: 0 1px 2px rgba(60, 64, 67, 0.3), 0 1px 3px 1px rgba(60, 64, 67, 0.15);\n",
              "    fill: var(--button-hover-fill-color);\n",
              "  }\n",
              "\n",
              "  .colab-df-quickchart-complete:disabled,\n",
              "  .colab-df-quickchart-complete:disabled:hover {\n",
              "    background-color: var(--disabled-bg-color);\n",
              "    fill: var(--disabled-fill-color);\n",
              "    box-shadow: none;\n",
              "  }\n",
              "\n",
              "  .colab-df-spinner {\n",
              "    border: 2px solid var(--fill-color);\n",
              "    border-color: transparent;\n",
              "    border-bottom-color: var(--fill-color);\n",
              "    animation:\n",
              "      spin 1s steps(1) infinite;\n",
              "  }\n",
              "\n",
              "  @keyframes spin {\n",
              "    0% {\n",
              "      border-color: transparent;\n",
              "      border-bottom-color: var(--fill-color);\n",
              "      border-left-color: var(--fill-color);\n",
              "    }\n",
              "    20% {\n",
              "      border-color: transparent;\n",
              "      border-left-color: var(--fill-color);\n",
              "      border-top-color: var(--fill-color);\n",
              "    }\n",
              "    30% {\n",
              "      border-color: transparent;\n",
              "      border-left-color: var(--fill-color);\n",
              "      border-top-color: var(--fill-color);\n",
              "      border-right-color: var(--fill-color);\n",
              "    }\n",
              "    40% {\n",
              "      border-color: transparent;\n",
              "      border-right-color: var(--fill-color);\n",
              "      border-top-color: var(--fill-color);\n",
              "    }\n",
              "    60% {\n",
              "      border-color: transparent;\n",
              "      border-right-color: var(--fill-color);\n",
              "    }\n",
              "    80% {\n",
              "      border-color: transparent;\n",
              "      border-right-color: var(--fill-color);\n",
              "      border-bottom-color: var(--fill-color);\n",
              "    }\n",
              "    90% {\n",
              "      border-color: transparent;\n",
              "      border-bottom-color: var(--fill-color);\n",
              "    }\n",
              "  }\n",
              "</style>\n",
              "\n",
              "  <script>\n",
              "    async function quickchart(key) {\n",
              "      const quickchartButtonEl =\n",
              "        document.querySelector('#' + key + ' button');\n",
              "      quickchartButtonEl.disabled = true;  // To prevent multiple clicks.\n",
              "      quickchartButtonEl.classList.add('colab-df-spinner');\n",
              "      try {\n",
              "        const charts = await google.colab.kernel.invokeFunction(\n",
              "            'suggestCharts', [key], {});\n",
              "      } catch (error) {\n",
              "        console.error('Error during call to suggestCharts:', error);\n",
              "      }\n",
              "      quickchartButtonEl.classList.remove('colab-df-spinner');\n",
              "      quickchartButtonEl.classList.add('colab-df-quickchart-complete');\n",
              "    }\n",
              "    (() => {\n",
              "      let quickchartButtonEl =\n",
              "        document.querySelector('#df-5df4ad05-c6eb-439b-af2b-6184af1a7b7b button');\n",
              "      quickchartButtonEl.style.display =\n",
              "        google.colab.kernel.accessAllowed ? 'block' : 'none';\n",
              "    })();\n",
              "  </script>\n",
              "</div>\n",
              "    </div>\n",
              "  </div>\n"
            ],
            "application/vnd.google.colaboratory.intrinsic+json": {
              "type": "dataframe",
              "variable_name": "training",
              "summary": "{\n  \"name\": \"training\",\n  \"rows\": 891,\n  \"fields\": [\n    {\n      \"column\": \"PassengerId\",\n      \"properties\": {\n        \"dtype\": \"number\",\n        \"std\": 257,\n        \"min\": 1,\n        \"max\": 891,\n        \"num_unique_values\": 891,\n        \"samples\": [\n          710,\n          440,\n          841\n        ],\n        \"semantic_type\": \"\",\n        \"description\": \"\"\n      }\n    },\n    {\n      \"column\": \"Survived\",\n      \"properties\": {\n        \"dtype\": \"number\",\n        \"std\": 0,\n        \"min\": 0,\n        \"max\": 1,\n        \"num_unique_values\": 2,\n        \"samples\": [\n          1,\n          0\n        ],\n        \"semantic_type\": \"\",\n        \"description\": \"\"\n      }\n    },\n    {\n      \"column\": \"Pclass\",\n      \"properties\": {\n        \"dtype\": \"number\",\n        \"std\": 0,\n        \"min\": 1,\n        \"max\": 3,\n        \"num_unique_values\": 3,\n        \"samples\": [\n          3,\n          1\n        ],\n        \"semantic_type\": \"\",\n        \"description\": \"\"\n      }\n    },\n    {\n      \"column\": \"Name\",\n      \"properties\": {\n        \"dtype\": \"string\",\n        \"num_unique_values\": 891,\n        \"samples\": [\n          \"Moubarek, Master. Halim Gonios (\\\"William George\\\")\",\n          \"Kvillner, Mr. Johan Henrik Johannesson\"\n        ],\n        \"semantic_type\": \"\",\n        \"description\": \"\"\n      }\n    },\n    {\n      \"column\": \"Sex\",\n      \"properties\": {\n        \"dtype\": \"number\",\n        \"std\": 0,\n        \"min\": 0,\n        \"max\": 1,\n        \"num_unique_values\": 2,\n        \"samples\": [\n          1,\n          0\n        ],\n        \"semantic_type\": \"\",\n        \"description\": \"\"\n      }\n    },\n    {\n      \"column\": \"Age\",\n      \"properties\": {\n        \"dtype\": \"number\",\n        \"std\": 14.526497332334042,\n        \"min\": 0.42,\n        \"max\": 80.0,\n        \"num_unique_values\": 88,\n        \"samples\": [\n          0.75,\n          22.0\n        ],\n        \"semantic_type\": \"\",\n        \"description\": \"\"\n      }\n    },\n    {\n      \"column\": \"SibSp\",\n      \"properties\": {\n        \"dtype\": \"number\",\n        \"std\": 1,\n        \"min\": 0,\n        \"max\": 8,\n        \"num_unique_values\": 7,\n        \"samples\": [\n          1,\n          0\n        ],\n        \"semantic_type\": \"\",\n        \"description\": \"\"\n      }\n    },\n    {\n      \"column\": \"Parch\",\n      \"properties\": {\n        \"dtype\": \"number\",\n        \"std\": 0,\n        \"min\": 0,\n        \"max\": 6,\n        \"num_unique_values\": 7,\n        \"samples\": [\n          0,\n          1\n        ],\n        \"semantic_type\": \"\",\n        \"description\": \"\"\n      }\n    },\n    {\n      \"column\": \"Ticket\",\n      \"properties\": {\n        \"dtype\": \"string\",\n        \"num_unique_values\": 681,\n        \"samples\": [\n          \"11774\",\n          \"248740\"\n        ],\n        \"semantic_type\": \"\",\n        \"description\": \"\"\n      }\n    },\n    {\n      \"column\": \"Fare\",\n      \"properties\": {\n        \"dtype\": \"number\",\n        \"std\": 49.6934285971809,\n        \"min\": 0.0,\n        \"max\": 512.3292,\n        \"num_unique_values\": 248,\n        \"samples\": [\n          11.2417,\n          51.8625\n        ],\n        \"semantic_type\": \"\",\n        \"description\": \"\"\n      }\n    },\n    {\n      \"column\": \"Cabin\",\n      \"properties\": {\n        \"dtype\": \"category\",\n        \"num_unique_values\": 147,\n        \"samples\": [\n          \"D45\",\n          \"B49\"\n        ],\n        \"semantic_type\": \"\",\n        \"description\": \"\"\n      }\n    },\n    {\n      \"column\": \"Embarked\",\n      \"properties\": {\n        \"dtype\": \"category\",\n        \"num_unique_values\": 3,\n        \"samples\": [\n          \"S\",\n          \"C\"\n        ],\n        \"semantic_type\": \"\",\n        \"description\": \"\"\n      }\n    }\n  ]\n}"
            }
          },
          "metadata": {},
          "execution_count": 12
        }
      ]
    },
    {
      "cell_type": "markdown",
      "source": [
        "c) Address Missing Values in the Dataset\n",
        "\n",
        "The output of the info() method above indicated that about 180 observations are missing the age value. The age\n",
        "value is important to our analysis. We must address these missing values in some way. While not ideal, we can\n",
        "replace these missing age values with the mean of the ages for the entire dataset.\n",
        "\n",
        "This is done by using the fillna() method on the \"Age\" column in the dataset. The fillna() method will\n",
        "change the original dataframe by using the inplace = True argument."
      ],
      "metadata": {
        "id": "LitoiOATyWhX"
      }
    },
    {
      "cell_type": "code",
      "source": [
        "#code cell 6\n",
        "training[\"Age\"].fillna(training[\"Age\"].mean(), inplace=True)"
      ],
      "metadata": {
        "id": "LCkBMTc1yYXn"
      },
      "execution_count": 13,
      "outputs": []
    },
    {
      "cell_type": "markdown",
      "source": [
        "d) Verify that the values have been replaced."
      ],
      "metadata": {
        "id": "gf96FgvKyilX"
      }
    },
    {
      "cell_type": "code",
      "source": [
        "#code cell 7\n",
        "#verify that the missing values for the age variable have been eliminated.\n",
        "training.info()"
      ],
      "metadata": {
        "colab": {
          "base_uri": "https://localhost:8080/"
        },
        "id": "HDWtSRLnyl5p",
        "outputId": "371e142f-d078-4afb-a70b-b60f667d2a9b"
      },
      "execution_count": 14,
      "outputs": [
        {
          "output_type": "stream",
          "name": "stdout",
          "text": [
            "<class 'pandas.core.frame.DataFrame'>\n",
            "RangeIndex: 891 entries, 0 to 890\n",
            "Data columns (total 12 columns):\n",
            " #   Column       Non-Null Count  Dtype  \n",
            "---  ------       --------------  -----  \n",
            " 0   PassengerId  891 non-null    int64  \n",
            " 1   Survived     891 non-null    int64  \n",
            " 2   Pclass       891 non-null    int64  \n",
            " 3   Name         891 non-null    object \n",
            " 4   Sex          891 non-null    int64  \n",
            " 5   Age          891 non-null    float64\n",
            " 6   SibSp        891 non-null    int64  \n",
            " 7   Parch        891 non-null    int64  \n",
            " 8   Ticket       891 non-null    object \n",
            " 9   Fare         891 non-null    float64\n",
            " 10  Cabin        204 non-null    object \n",
            " 11  Embarked     889 non-null    object \n",
            "dtypes: float64(2), int64(6), object(4)\n",
            "memory usage: 83.7+ KB\n"
          ]
        }
      ]
    },
    {
      "cell_type": "markdown",
      "source": [
        "What is the value that was used to replace the missing ages?"
      ],
      "metadata": {
        "id": "cR0HDsvxynW_"
      }
    },
    {
      "cell_type": "code",
      "source": [
        "#use code to answer the question above\n",
        "print(training[\"Age\"].mean())"
      ],
      "metadata": {
        "colab": {
          "base_uri": "https://localhost:8080/"
        },
        "id": "ynzVo0D1yo1Y",
        "outputId": "e4fb9bea-67f4-4803-9757-2d1e323e6d3e"
      },
      "execution_count": 15,
      "outputs": [
        {
          "output_type": "stream",
          "name": "stdout",
          "text": [
            "29.69911764705882\n"
          ]
        }
      ]
    },
    {
      "cell_type": "markdown",
      "source": [
        "Step 3: Train and Score the Decision Tree Model.\n",
        "\n",
        "a) Create an array object with the variable that will be the target for the model.\n",
        "The purpose of the model is to classify passengers as survivors or victims. The dataset identifies survivors and\n",
        "victims. The model will learn which input variable values are most likely to belong to victims and survivors, and\n",
        "then use that information to classify passengers from a unique test data set."
      ],
      "metadata": {
        "id": "hINU4007yqgv"
      }
    },
    {
      "cell_type": "code",
      "source": [
        "#code cell 8\n",
        "#create the array for the target values\n",
        "y_target = training[\"Survived\"].values"
      ],
      "metadata": {
        "id": "lvkClLpZyt4W"
      },
      "execution_count": 16,
      "outputs": []
    },
    {
      "cell_type": "markdown",
      "source": [
        "b) Create an array of the values that will be the input for the model.\n",
        "\n",
        "Only some of the features of the data are useful for creating the classifier tree. We create a list of the columns\n",
        "from the data that we want the classifier to use as the input variables and then create an array using the column\n",
        "name from that variable. The variable X_input holds the values for all the features that the model will use to\n",
        "learn how to make the classifications. After the model is trained, we will use this variable to assign these labels\n",
        "to the test data set."
      ],
      "metadata": {
        "id": "JxHDUJ6cywDa"
      }
    },
    {
      "cell_type": "code",
      "source": [
        "#code cell 9\n",
        "columns = [\"Fare\", \"Pclass\", \"Sex\", \"Age\", \"SibSp\"]\n",
        "#create the variable to hold the features that the classifier will use\n",
        "X_input = training[list(columns)].values"
      ],
      "metadata": {
        "id": "6xbamHGzyygH"
      },
      "execution_count": 17,
      "outputs": []
    },
    {
      "cell_type": "markdown",
      "source": [
        "c) Create the learned model.\n",
        "\n",
        "Import the decision tree module from the sklearn machine learning library. Create the classifier object\n",
        "clf_train. Then, use the fit() method of the classifier object, with the X_input and y_target variables as\n",
        "parameters, to train the model."
      ],
      "metadata": {
        "id": "nNm3kKDTyz60"
      }
    },
    {
      "cell_type": "code",
      "source": [
        "#code cell 10\n",
        "#import the tree module from the sklearn library\n",
        "from sklearn import tree\n",
        "#create clf_train as a decision tree classifier object\n",
        "clf_train = tree.DecisionTreeClassifier(criterion=\"entropy\", max_depth=3)\n",
        "#train the model using the fit() method of the decision tree object.\n",
        "#Supply the method with the input variable X_input and the target variable y_target\n",
        "clf_train = clf_train.fit(X_input, y_target)"
      ],
      "metadata": {
        "id": "hIRy6ps3y1vX"
      },
      "execution_count": 18,
      "outputs": []
    },
    {
      "cell_type": "markdown",
      "source": [
        "d) Evaluate the model\n",
        "\n",
        "Use the score() method of the decision tree object to display the percentage accuracy of the assignments\n",
        "made by the classifier. It takes the input and target variables as arguments"
      ],
      "metadata": {
        "id": "YJ2u1rBdy3ff"
      }
    },
    {
      "cell_type": "code",
      "source": [
        "#code cell 11\n",
        "clf_train.score(X_input,y_target)"
      ],
      "metadata": {
        "colab": {
          "base_uri": "https://localhost:8080/"
        },
        "id": "bCdtNlGLy6BN",
        "outputId": "c2bff770-883f-4b55-d1bf-b19ec3695f0b"
      },
      "execution_count": 19,
      "outputs": [
        {
          "output_type": "execute_result",
          "data": {
            "text/plain": [
              "0.8226711560044894"
            ]
          },
          "metadata": {},
          "execution_count": 19
        }
      ]
    },
    {
      "cell_type": "markdown",
      "source": [
        "This score value indicates that classifications made by the model should be correct approximately 82% of the\n",
        "time."
      ],
      "metadata": {
        "id": "pmwr0m-ay8tw"
      }
    },
    {
      "cell_type": "markdown",
      "source": [
        "Step 6: Visualize the Tree\n",
        "\n",
        "a) Create the intermediate file output\n",
        "Import the sklearn.externals.six StringIO module which is used to output the characteristics of the\n",
        "decision tree to a file. We will create a Graphviz dot file which will allow us to export the results of the classifier\n",
        "into a format that can be converted into a graphic."
      ],
      "metadata": {
        "id": "-AYrMWVVy9qf"
      }
    },
    {
      "cell_type": "code",
      "source": [
        "#code cell 12\n",
        "from six import StringIO\n",
        "with open(\"titanic.dot\", 'w') as f:\n",
        "  f = tree.export_graphviz(clf_train, out_file=f, feature_names=columns)"
      ],
      "metadata": {
        "id": "85cGMWt0zAIB"
      },
      "execution_count": 20,
      "outputs": []
    },
    {
      "cell_type": "markdown",
      "source": [
        "b) Install Graphviz\n",
        "\n",
        "To visualize the decision tree, Graphviz needs to be installed from a terminal. The installation requires that a\n",
        "prompt be answered, which can't be done from a notebook code cell. Use the apt-get install graphviz\n",
        "command from the terminal command line to install this software.\n",
        "\n",
        "c) Convert the intermediate file to a graphic\n",
        "\n",
        "The dot file that was created above can be converted to a .png file with the graphiz dot renderer. This is a shell\n",
        "command, so use ! before it to run it from this noteblook. The new titanic.png graphic file should appear in the\n",
        "directory that contains this notebook."
      ],
      "metadata": {
        "id": "46Ri2VsrzB8m"
      }
    },
    {
      "cell_type": "code",
      "source": [
        "#code cell 13\n",
        "#run the Graphviz dot command to convert the .dot file to .png\n",
        "!dot -Tpng titanic.dot -o titanic.png"
      ],
      "metadata": {
        "id": "bHarv31GzEmG"
      },
      "execution_count": 21,
      "outputs": []
    },
    {
      "cell_type": "markdown",
      "source": [
        "d) Display the image\n",
        "\n",
        "Now we will import the Image module from the IPython.display library. This will allow us to open and display\n",
        "an external graphics file on the notebook page. The Image function is used to display the file, with the .png file\n",
        "name as argument."
      ],
      "metadata": {
        "id": "vXIL2hCOzGeX"
      }
    },
    {
      "cell_type": "code",
      "source": [
        "#code cell 14\n",
        "#import the Image module from the Ipython.display libary\n",
        "from IPython.display import Image\n",
        "#display the decison tree graphic\n",
        "Image(\"titanic.png\")"
      ],
      "metadata": {
        "colab": {
          "base_uri": "https://localhost:8080/",
          "height": 420
        },
        "id": "fdDVaJRwzIfI",
        "outputId": "e991bc5f-8475-4b7f-d0b9-5677fc854043"
      },
      "execution_count": 22,
      "outputs": [
        {
          "output_type": "execute_result",
          "data": {
            "image/png": "[encoded data removed]",
            "text/plain": [
              "<IPython.core.display.Image object>"
            ]
          },
          "metadata": {},
          "execution_count": 22
        }
      ]
    },
    {
      "cell_type": "markdown",
      "source": [
        "e) Interpret the tree\n",
        "\n",
        "From the tree, we can see several things. First, at the root of the tree is the Gender variable, indicating that it is\n",
        "the single most important factor in making the classification. The branches to the left are for Gender = 0 or male.\n",
        "Each root and intermediate node contains the decision factor, the entropy, and the number of passengers who fit\n",
        "the critierion at that point in the tree. For example, the root node indicates that there are 891 observations that\n",
        "make up the learning data set. At the next level, we can see that 577 people were male, and 314 were female. In\n",
        "the third level, at the far right, we can see that 415 people were male and paid a fare of less than 26.2686.\n",
        "\n",
        "Finally, the leaf nodes for that intermediate node indicate that 15 of these passengers were below the age of\n",
        "13.5, and the other 400 were older than that age.\n",
        "Finally, the elements in the value array indicate survival. The first value is the number of people who died, and\n",
        "the second is the number of survivors for each criterion. The root node tells us that out of our sample, 549\n",
        "people died and 342 survived.\n",
        "\n",
        "Entropy is a measure of noise in the decision. Noise can be viewed as uncertainty. For example, in nodes in\n",
        "which the decision results in equal values in the survival value array, the entropy is at its highest possible value,\n",
        "which is 1.0. This means that the model was unable to definitively make the classification decision based on the\n",
        "input variables. For values of very low entropy, the decision was much more clear cut, and the difference in the\n",
        "number of survivors and victims is much higher."
      ],
      "metadata": {
        "id": "3Zu6z37WzaFZ"
      }
    },
    {
      "cell_type": "markdown",
      "source": [
        "What describes the group that had the most deaths by number? Which group had the most survivors?\n",
        "\n",
        "- _Male Passengers with the Age <=13.5 has the highest number of death count_\n",
        "- _Female Passengers with a Fare >=28.856 has the highest number of survivor count_"
      ],
      "metadata": {
        "id": "m0mDhfxRzjp9"
      }
    },
    {
      "cell_type": "markdown",
      "source": [
        "**Part 2: Apply the Decision Tree Model**\n",
        "\n",
        "In this part of the lab, we will use the results of the learned decision tree model to label an unlabelled dataset of\n",
        "Titanic passengers. The decision tree will evaluate the features of each observation and label the observation as\n",
        "survived (label = 1) or died (label = 0).\n",
        "\n",
        "Step 1: Import and Prepare the Data\n",
        "\n",
        "In this step, you will import and prepare the data for analysis.\n",
        "\n",
        "a) Import the data.\n",
        "\n",
        "Name the dataframe \"testing\" and import the file titanic-test.csv."
      ],
      "metadata": {
        "id": "T5scX6rhznLm"
      }
    },
    {
      "cell_type": "code",
      "source": [
        "#code cell 15\n",
        "#import the file into the 'testing' dataframe.\n",
        "testing = pd.read_csv(\"titanic_test.csv\")"
      ],
      "metadata": {
        "id": "fNti8LvTzspH"
      },
      "execution_count": 45,
      "outputs": []
    },
    {
      "cell_type": "code",
      "source": [
        "testing.info()"
      ],
      "metadata": {
        "colab": {
          "base_uri": "https://localhost:8080/"
        },
        "id": "9AB59W6Kxoz2",
        "outputId": "dea618d8-f3df-40e3-e8aa-b15402367b32"
      },
      "execution_count": 46,
      "outputs": [
        {
          "output_type": "stream",
          "name": "stdout",
          "text": [
            "<class 'pandas.core.frame.DataFrame'>\n",
            "RangeIndex: 418 entries, 0 to 417\n",
            "Data columns (total 11 columns):\n",
            " #   Column       Non-Null Count  Dtype  \n",
            "---  ------       --------------  -----  \n",
            " 0   PassengerId  418 non-null    int64  \n",
            " 1   Pclass       418 non-null    int64  \n",
            " 2   Name         418 non-null    object \n",
            " 3   Sex          418 non-null    object \n",
            " 4   Age          332 non-null    float64\n",
            " 5   SibSp        418 non-null    int64  \n",
            " 6   Parch        418 non-null    int64  \n",
            " 7   Ticket       418 non-null    object \n",
            " 8   Fare         417 non-null    float64\n",
            " 9   Cabin        91 non-null     object \n",
            " 10  Embarked     418 non-null    object \n",
            "dtypes: float64(2), int64(4), object(5)\n",
            "memory usage: 36.0+ KB\n"
          ]
        }
      ]
    },
    {
      "cell_type": "markdown",
      "source": [
        "How many records are in the data set?\n",
        "\n",
        "- 418\n",
        "\n",
        "Which important variables(s) are missing values and how many are missing?\n",
        "\n",
        "- Age is missing 86 entries\n",
        "- Age is missing 1 entry\n",
        "\n",
        "b) Use a lambda expression to replace the \"male\" and \"female\" values with 0 for male and 1 for\n",
        "female.."
      ],
      "metadata": {
        "id": "D550tvJDznSh"
      }
    },
    {
      "cell_type": "code",
      "source": [
        "#code cell 16\n",
        "#replace the Gender labels in the testing dataframe\n",
        "#code cell 4\n",
        "testing[\"Sex\"] = testing[\"Sex\"].apply(lambda toLabel: 0 if toLabel =='male' else 1)"
      ],
      "metadata": {
        "id": "YlbNuuGfzy5X"
      },
      "execution_count": 24,
      "outputs": []
    },
    {
      "cell_type": "markdown",
      "source": [
        "c) Replace the missing age values with the mean of the ages."
      ],
      "metadata": {
        "id": "6txsJ28Yz0T2"
      }
    },
    {
      "cell_type": "code",
      "source": [
        "#code cell 17\n",
        "#Use the fillna method of the testing dataframe column \"Age\"\n",
        "#to replace missing values with the mean of the age values.\n",
        "testing[\"Age\"].fillna(testing[\"Age\"].mean(), inplace=True)\n",
        "testing[\"Fare\"].fillna(testing[\"Fare\"].mean(), inplace=True)"
      ],
      "metadata": {
        "id": "64087N7Wz2NH"
      },
      "execution_count": 25,
      "outputs": []
    },
    {
      "cell_type": "markdown",
      "source": [
        "d) Verify that the values have been replaced.\n",
        "\n",
        "Check that the missing values have been filled and that the Gender labels are 0 and 1."
      ],
      "metadata": {
        "id": "m8JWOVDEz7O2"
      }
    },
    {
      "cell_type": "code",
      "source": [
        "#code cell 18\n",
        "#verify the data preparation steps. Enter and run both the info and head\n",
        "testing.info()\n",
        "testing.head()\n",
        "#methods from here, by entering and running one and then the other."
      ],
      "metadata": {
        "colab": {
          "base_uri": "https://localhost:8080/",
          "height": 518
        },
        "id": "9oAgpStHz9Bt",
        "outputId": "e9b086b0-3741-49bd-a6a1-5ed17554eedd"
      },
      "execution_count": 26,
      "outputs": [
        {
          "output_type": "stream",
          "name": "stdout",
          "text": [
            "<class 'pandas.core.frame.DataFrame'>\n",
            "RangeIndex: 418 entries, 0 to 417\n",
            "Data columns (total 11 columns):\n",
            " #   Column       Non-Null Count  Dtype  \n",
            "---  ------       --------------  -----  \n",
            " 0   PassengerId  418 non-null    int64  \n",
            " 1   Pclass       418 non-null    int64  \n",
            " 2   Name         418 non-null    object \n",
            " 3   Sex          418 non-null    int64  \n",
            " 4   Age          418 non-null    float64\n",
            " 5   SibSp        418 non-null    int64  \n",
            " 6   Parch        418 non-null    int64  \n",
            " 7   Ticket       418 non-null    object \n",
            " 8   Fare         418 non-null    float64\n",
            " 9   Cabin        91 non-null     object \n",
            " 10  Embarked     418 non-null    object \n",
            "dtypes: float64(2), int64(5), object(4)\n",
            "memory usage: 36.0+ KB\n"
          ]
        },
        {
          "output_type": "execute_result",
          "data": {
            "text/plain": [
              "   PassengerId  Pclass                                          Name  Sex  \\\n",
              "0          892       3                              Kelly, Mr. James    0   \n",
              "1          893       3              Wilkes, Mrs. James (Ellen Needs)    1   \n",
              "2          894       2                     Myles, Mr. Thomas Francis    0   \n",
              "3          895       3                              Wirz, Mr. Albert    0   \n",
              "4          896       3  Hirvonen, Mrs. Alexander (Helga E Lindqvist)    1   \n",
              "\n",
              "    Age  SibSp  Parch   Ticket     Fare Cabin Embarked  \n",
              "0  34.5      0      0   330911   7.8292   NaN        Q  \n",
              "1  47.0      1      0   363272   7.0000   NaN        S  \n",
              "2  62.0      0      0   240276   9.6875   NaN        Q  \n",
              "3  27.0      0      0   315154   8.6625   NaN        S  \n",
              "4  22.0      1      1  3101298  12.2875   NaN        S  "
            ],
            "text/html": [
              "\n",
              "  <div id=\"df-0d292a90-a0fd-4f9d-96f7-bb3e420032a9\" class=\"colab-df-container\">\n",
              "    <div>\n",
              "<style scoped>\n",
              "    .dataframe tbody tr th:only-of-type {\n",
              "        vertical-align: middle;\n",
              "    }\n",
              "\n",
              "    .dataframe tbody tr th {\n",
              "        vertical-align: top;\n",
              "    }\n",
              "\n",
              "    .dataframe thead th {\n",
              "        text-align: right;\n",
              "    }\n",
              "</style>\n",
              "<table border=\"1\" class=\"dataframe\">\n",
              "  <thead>\n",
              "    <tr style=\"text-align: right;\">\n",
              "      <th></th>\n",
              "      <th>PassengerId</th>\n",
              "      <th>Pclass</th>\n",
              "      <th>Name</th>\n",
              "      <th>Sex</th>\n",
              "      <th>Age</th>\n",
              "      <th>SibSp</th>\n",
              "      <th>Parch</th>\n",
              "      <th>Ticket</th>\n",
              "      <th>Fare</th>\n",
              "      <th>Cabin</th>\n",
              "      <th>Embarked</th>\n",
              "    </tr>\n",
              "  </thead>\n",
              "  <tbody>\n",
              "    <tr>\n",
              "      <th>0</th>\n",
              "      <td>892</td>\n",
              "      <td>3</td>\n",
              "      <td>Kelly, Mr. James</td>\n",
              "      <td>0</td>\n",
              "      <td>34.5</td>\n",
              "      <td>0</td>\n",
              "      <td>0</td>\n",
              "      <td>330911</td>\n",
              "      <td>7.8292</td>\n",
              "      <td>NaN</td>\n",
              "      <td>Q</td>\n",
              "    </tr>\n",
              "    <tr>\n",
              "      <th>1</th>\n",
              "      <td>893</td>\n",
              "      <td>3</td>\n",
              "      <td>Wilkes, Mrs. James (Ellen Needs)</td>\n",
              "      <td>1</td>\n",
              "      <td>47.0</td>\n",
              "      <td>1</td>\n",
              "      <td>0</td>\n",
              "      <td>363272</td>\n",
              "      <td>7.0000</td>\n",
              "      <td>NaN</td>\n",
              "      <td>S</td>\n",
              "    </tr>\n",
              "    <tr>\n",
              "      <th>2</th>\n",
              "      <td>894</td>\n",
              "      <td>2</td>\n",
              "      <td>Myles, Mr. Thomas Francis</td>\n",
              "      <td>0</td>\n",
              "      <td>62.0</td>\n",
              "      <td>0</td>\n",
              "      <td>0</td>\n",
              "      <td>240276</td>\n",
              "      <td>9.6875</td>\n",
              "      <td>NaN</td>\n",
              "      <td>Q</td>\n",
              "    </tr>\n",
              "    <tr>\n",
              "      <th>3</th>\n",
              "      <td>895</td>\n",
              "      <td>3</td>\n",
              "      <td>Wirz, Mr. Albert</td>\n",
              "      <td>0</td>\n",
              "      <td>27.0</td>\n",
              "      <td>0</td>\n",
              "      <td>0</td>\n",
              "      <td>315154</td>\n",
              "      <td>8.6625</td>\n",
              "      <td>NaN</td>\n",
              "      <td>S</td>\n",
              "    </tr>\n",
              "    <tr>\n",
              "      <th>4</th>\n",
              "      <td>896</td>\n",
              "      <td>3</td>\n",
              "      <td>Hirvonen, Mrs. Alexander (Helga E Lindqvist)</td>\n",
              "      <td>1</td>\n",
              "      <td>22.0</td>\n",
              "      <td>1</td>\n",
              "      <td>1</td>\n",
              "      <td>3101298</td>\n",
              "      <td>12.2875</td>\n",
              "      <td>NaN</td>\n",
              "      <td>S</td>\n",
              "    </tr>\n",
              "  </tbody>\n",
              "</table>\n",
              "</div>\n",
              "    <div class=\"colab-df-buttons\">\n",
              "\n",
              "  <div class=\"colab-df-container\">\n",
              "    <button class=\"colab-df-convert\" onclick=\"convertToInteractive('df-0d292a90-a0fd-4f9d-96f7-bb3e420032a9')\"\n",
              "            title=\"Convert this dataframe to an interactive table.\"\n",
              "            style=\"display:none;\">\n",
              "\n",
              "  <svg xmlns=\"http://www.w3.org/2000/svg\" height=\"24px\" viewBox=\"0 -960 960 960\">\n",
              "    <path d=\"M120-120v-720h720v720H120Zm60-500h600v-160H180v160Zm220 220h160v-160H400v160Zm0 220h160v-160H400v160ZM180-400h160v-160H180v160Zm440 0h160v-160H620v160ZM180-180h160v-160H180v160Zm440 0h160v-160H620v160Z\"/>\n",
              "  </svg>\n",
              "    </button>\n",
              "\n",
              "  <style>\n",
              "    .colab-df-container {\n",
              "      display:flex;\n",
              "      gap: 12px;\n",
              "    }\n",
              "\n",
              "    .colab-df-convert {\n",
              "      background-color: #E8F0FE;\n",
              "      border: none;\n",
              "      border-radius: 50%;\n",
              "      cursor: pointer;\n",
              "      display: none;\n",
              "      fill: #1967D2;\n",
              "      height: 32px;\n",
              "      padding: 0 0 0 0;\n",
              "      width: 32px;\n",
              "    }\n",
              "\n",
              "    .colab-df-convert:hover {\n",
              "      background-color: #E2EBFA;\n",
              "      box-shadow: 0px 1px 2px rgba(60, 64, 67, 0.3), 0px 1px 3px 1px rgba(60, 64, 67, 0.15);\n",
              "      fill: #174EA6;\n",
              "    }\n",
              "\n",
              "    .colab-df-buttons div {\n",
              "      margin-bottom: 4px;\n",
              "    }\n",
              "\n",
              "    [theme=dark] .colab-df-convert {\n",
              "      background-color: #3B4455;\n",
              "      fill: #D2E3FC;\n",
              "    }\n",
              "\n",
              "    [theme=dark] .colab-df-convert:hover {\n",
              "      background-color: #434B5C;\n",
              "      box-shadow: 0px 1px 3px 1px rgba(0, 0, 0, 0.15);\n",
              "      filter: drop-shadow(0px 1px 2px rgba(0, 0, 0, 0.3));\n",
              "      fill: #FFFFFF;\n",
              "    }\n",
              "  </style>\n",
              "\n",
              "    <script>\n",
              "      const buttonEl =\n",
              "        document.querySelector('#df-0d292a90-a0fd-4f9d-96f7-bb3e420032a9 button.colab-df-convert');\n",
              "      buttonEl.style.display =\n",
              "        google.colab.kernel.accessAllowed ? 'block' : 'none';\n",
              "\n",
              "      async function convertToInteractive(key) {\n",
              "        const element = document.querySelector('#df-0d292a90-a0fd-4f9d-96f7-bb3e420032a9');\n",
              "        const dataTable =\n",
              "          await google.colab.kernel.invokeFunction('convertToInteractive',\n",
              "                                                    [key], {});\n",
              "        if (!dataTable) return;\n",
              "\n",
              "        const docLinkHtml = 'Like what you see? Visit the ' +\n",
              "          '<a target=\"_blank\" href=https://colab.research.google.com/notebooks/data_table.ipynb>data table notebook</a>'\n",
              "          + ' to learn more about interactive tables.';\n",
              "        element.innerHTML = '';\n",
              "        dataTable['output_type'] = 'display_data';\n",
              "        await google.colab.output.renderOutput(dataTable, element);\n",
              "        const docLink = document.createElement('div');\n",
              "        docLink.innerHTML = docLinkHtml;\n",
              "        element.appendChild(docLink);\n",
              "      }\n",
              "    </script>\n",
              "  </div>\n",
              "\n",
              "\n",
              "<div id=\"df-691ef300-0176-464c-b17a-1a5da7428362\">\n",
              "  <button class=\"colab-df-quickchart\" onclick=\"quickchart('df-691ef300-0176-464c-b17a-1a5da7428362')\"\n",
              "            title=\"Suggest charts\"\n",
              "            style=\"display:none;\">\n",
              "\n",
              "<svg xmlns=\"http://www.w3.org/2000/svg\" height=\"24px\"viewBox=\"0 0 24 24\"\n",
              "     width=\"24px\">\n",
              "    <g>\n",
              "        <path d=\"M19 3H5c-1.1 0-2 .9-2 2v14c0 1.1.9 2 2 2h14c1.1 0 2-.9 2-2V5c0-1.1-.9-2-2-2zM9 17H7v-7h2v7zm4 0h-2V7h2v10zm4 0h-2v-4h2v4z\"/>\n",
              "    </g>\n",
              "</svg>\n",
              "  </button>\n",
              "\n",
              "<style>\n",
              "  .colab-df-quickchart {\n",
              "      --bg-color: #E8F0FE;\n",
              "      --fill-color: #1967D2;\n",
              "      --hover-bg-color: #E2EBFA;\n",
              "      --hover-fill-color: #174EA6;\n",
              "      --disabled-fill-color: #AAA;\n",
              "      --disabled-bg-color: #DDD;\n",
              "  }\n",
              "\n",
              "  [theme=dark] .colab-df-quickchart {\n",
              "      --bg-color: #3B4455;\n",
              "      --fill-color: #D2E3FC;\n",
              "      --hover-bg-color: #434B5C;\n",
              "      --hover-fill-color: #FFFFFF;\n",
              "      --disabled-bg-color: #3B4455;\n",
              "      --disabled-fill-color: #666;\n",
              "  }\n",
              "\n",
              "  .colab-df-quickchart {\n",
              "    background-color: var(--bg-color);\n",
              "    border: none;\n",
              "    border-radius: 50%;\n",
              "    cursor: pointer;\n",
              "    display: none;\n",
              "    fill: var(--fill-color);\n",
              "    height: 32px;\n",
              "    padding: 0;\n",
              "    width: 32px;\n",
              "  }\n",
              "\n",
              "  .colab-df-quickchart:hover {\n",
              "    background-color: var(--hover-bg-color);\n",
              "    box-shadow: 0 1px 2px rgba(60, 64, 67, 0.3), 0 1px 3px 1px rgba(60, 64, 67, 0.15);\n",
              "    fill: var(--button-hover-fill-color);\n",
              "  }\n",
              "\n",
              "  .colab-df-quickchart-complete:disabled,\n",
              "  .colab-df-quickchart-complete:disabled:hover {\n",
              "    background-color: var(--disabled-bg-color);\n",
              "    fill: var(--disabled-fill-color);\n",
              "    box-shadow: none;\n",
              "  }\n",
              "\n",
              "  .colab-df-spinner {\n",
              "    border: 2px solid var(--fill-color);\n",
              "    border-color: transparent;\n",
              "    border-bottom-color: var(--fill-color);\n",
              "    animation:\n",
              "      spin 1s steps(1) infinite;\n",
              "  }\n",
              "\n",
              "  @keyframes spin {\n",
              "    0% {\n",
              "      border-color: transparent;\n",
              "      border-bottom-color: var(--fill-color);\n",
              "      border-left-color: var(--fill-color);\n",
              "    }\n",
              "    20% {\n",
              "      border-color: transparent;\n",
              "      border-left-color: var(--fill-color);\n",
              "      border-top-color: var(--fill-color);\n",
              "    }\n",
              "    30% {\n",
              "      border-color: transparent;\n",
              "      border-left-color: var(--fill-color);\n",
              "      border-top-color: var(--fill-color);\n",
              "      border-right-color: var(--fill-color);\n",
              "    }\n",
              "    40% {\n",
              "      border-color: transparent;\n",
              "      border-right-color: var(--fill-color);\n",
              "      border-top-color: var(--fill-color);\n",
              "    }\n",
              "    60% {\n",
              "      border-color: transparent;\n",
              "      border-right-color: var(--fill-color);\n",
              "    }\n",
              "    80% {\n",
              "      border-color: transparent;\n",
              "      border-right-color: var(--fill-color);\n",
              "      border-bottom-color: var(--fill-color);\n",
              "    }\n",
              "    90% {\n",
              "      border-color: transparent;\n",
              "      border-bottom-color: var(--fill-color);\n",
              "    }\n",
              "  }\n",
              "</style>\n",
              "\n",
              "  <script>\n",
              "    async function quickchart(key) {\n",
              "      const quickchartButtonEl =\n",
              "        document.querySelector('#' + key + ' button');\n",
              "      quickchartButtonEl.disabled = true;  // To prevent multiple clicks.\n",
              "      quickchartButtonEl.classList.add('colab-df-spinner');\n",
              "      try {\n",
              "        const charts = await google.colab.kernel.invokeFunction(\n",
              "            'suggestCharts', [key], {});\n",
              "      } catch (error) {\n",
              "        console.error('Error during call to suggestCharts:', error);\n",
              "      }\n",
              "      quickchartButtonEl.classList.remove('colab-df-spinner');\n",
              "      quickchartButtonEl.classList.add('colab-df-quickchart-complete');\n",
              "    }\n",
              "    (() => {\n",
              "      let quickchartButtonEl =\n",
              "        document.querySelector('#df-691ef300-0176-464c-b17a-1a5da7428362 button');\n",
              "      quickchartButtonEl.style.display =\n",
              "        google.colab.kernel.accessAllowed ? 'block' : 'none';\n",
              "    })();\n",
              "  </script>\n",
              "</div>\n",
              "    </div>\n",
              "  </div>\n"
            ],
            "application/vnd.google.colaboratory.intrinsic+json": {
              "type": "dataframe",
              "repr_error": "'str' object has no attribute 'empty'"
            }
          },
          "metadata": {},
          "execution_count": 26
        }
      ]
    },
    {
      "cell_type": "markdown",
      "source": [
        "Step 2: Label the testing dataset\n",
        "\n",
        "In this step, you will apply the learned model to the testing dataset.\n",
        "\n",
        "a) Create the array of input variables from the testing data set."
      ],
      "metadata": {
        "id": "ZZM0ghWRz_LX"
      }
    },
    {
      "cell_type": "code",
      "source": [
        "#code cell 19\n",
        "#create the variable X_input to hold the features that the classifier will use\n",
        "X_input = testing[list(columns)].values"
      ],
      "metadata": {
        "id": "2OmCFh3V0Bzm"
      },
      "execution_count": 27,
      "outputs": []
    },
    {
      "cell_type": "markdown",
      "source": [
        "b) Apply the model to the testing data set.\n",
        "\n",
        "Use the predict() method of the clf_train object that was trained to label the observations in the testing data\n",
        "set with the most likely survival classification. Provide the array of input variables from the testing data set as the\n",
        "parameter for this method."
      ],
      "metadata": {
        "id": "xmD1x2zu0E7X"
      }
    },
    {
      "cell_type": "code",
      "source": [
        "#code cell 20\n",
        "#apply the model to the testing data and store the result in a pandas dataframe.\n",
        "#Use X_input as the argurment for the predict() method of the clf_train classifier object\n",
        "target_labels = clf_train.predict(X_input)\n",
        "#convert the target array into a pandas dataframe using the pd.DataFrame() method and target as argument\n",
        "target_labels = pd.DataFrame({'Est_Survival':target_labels, 'Name':testing['Name']})\n",
        "#display the first few rows of the data set"
      ],
      "metadata": {
        "id": "5P9ilKi-0IEe"
      },
      "execution_count": 28,
      "outputs": []
    },
    {
      "cell_type": "markdown",
      "source": [
        "c) Evaluate the accuracy of the estimated labels\n",
        "\n",
        "The ground truth for the survival of each passenger can be found in another file called all_data.csv. To select\n",
        "only the passengers contained in the testing dataset, we merge the target_labels dataframe and the\n",
        "all_data dataframe on the field Name. We then compare the estimated label with the ground truth dataframe\n",
        "and compute the accuracy of the learned model."
      ],
      "metadata": {
        "id": "DBgUdj9e0Npm"
      }
    },
    {
      "cell_type": "code",
      "source": [
        "#code cell 21\n",
        "#import the numpy library as np\n",
        "import numpy as np\n",
        "# Load data for all passengers in the variable all_data\n",
        "all_data = pd.read_csv(\"titanic_all.csv\")\n",
        "# Merging using the field Name as key, selects only the rows of the two datasets that refer to the same passenger\n",
        "testing_results = pd.merge(target_labels, all_data[['Name','Survived']], on=['Name'])\n",
        "# Compute the accuracy as a ratio of matching observations to total osbervations. Store this in in the variable acc.\n",
        "acc = np.sum(testing_results['Est_Survival'] == testing_results['Survived']) /float(len(testing_results))\n",
        "# Print the result\n",
        "print(acc)"
      ],
      "metadata": {
        "id": "nSgjfrlv0QYp",
        "colab": {
          "base_uri": "https://localhost:8080/"
        },
        "outputId": "8e3c9274-f2fc-4684-a0b7-0e1f7f32fd1c"
      },
      "execution_count": 101,
      "outputs": [
        {
          "output_type": "stream",
          "name": "stdout",
          "text": [
            "0.7682619647355163\n"
          ]
        }
      ]
    },
    {
      "cell_type": "markdown",
      "source": [
        "Part 3: Evaluate the Decision Tree Model\n",
        "\n",
        "The sklearn library includes a module that can be used to evaluate the accurracy of the decision tree model.\n",
        "The train_test_split() method will divide the observations in whole data set into two randomly selected\n",
        "arrays of observations that makeup the testing and training datasets. After fitting the model to the training data,\n",
        "the trained model can be scored and the prediction accurracy compared for both the training and test datasets. It\n",
        "is desirable for the two scores to be close, but the accuracy for the test dataset is normally lower that for the\n",
        "training data set.\n",
        "\n",
        "Step 1: Import the data\n",
        "\n",
        "This time we will import the data from a csv file, but we will specify the columns that we want to have appear in\n",
        "the dataframe. We will do this by passing an array-like list of column names to the read_csv() method usecols\n",
        "parameter. Use the following columns: 'Survived', 'Fare', 'Pclass', 'Gender', 'Age', and 'SibSP'. Each should be in\n",
        "quotes and the list should be square brackets. Name this dataframe all_data."
      ],
      "metadata": {
        "id": "Hx7xCgBb0WSj"
      }
    },
    {
      "cell_type": "code",
      "source": [
        "#code cell 22\n",
        "#import the titanic_all.csv file into a dataframe called all_data. Specify the list of columns to import.\n",
        "all_data = pd.read_csv(\"titanic_all.csv\", usecols=['Survived','Pclass','Gender','Age','SibSp','Fare'])\n",
        "#View info for the new dataframe"
      ],
      "metadata": {
        "id": "I9kflZOr0ZO_"
      },
      "execution_count": 30,
      "outputs": []
    },
    {
      "cell_type": "code",
      "source": [
        "all_data.info()"
      ],
      "metadata": {
        "colab": {
          "base_uri": "https://localhost:8080/"
        },
        "id": "LzeIjs7A6qHA",
        "outputId": "1db75958-c122-4104-bd6e-babe6b04aee5"
      },
      "execution_count": 31,
      "outputs": [
        {
          "output_type": "stream",
          "name": "stdout",
          "text": [
            "<class 'pandas.core.frame.DataFrame'>\n",
            "RangeIndex: 1308 entries, 0 to 1307\n",
            "Data columns (total 6 columns):\n",
            " #   Column    Non-Null Count  Dtype  \n",
            "---  ------    --------------  -----  \n",
            " 0   Survived  1308 non-null   int64  \n",
            " 1   Pclass    1308 non-null   int64  \n",
            " 2   Gender    1308 non-null   object \n",
            " 3   Age       1045 non-null   float64\n",
            " 4   SibSp     1308 non-null   int64  \n",
            " 5   Fare      1308 non-null   float64\n",
            "dtypes: float64(2), int64(3), object(1)\n",
            "memory usage: 61.4+ KB\n"
          ]
        }
      ]
    },
    {
      "cell_type": "code",
      "source": [
        "all_data.rename(columns = {'Gender':'Sex'}, inplace = True)"
      ],
      "metadata": {
        "id": "Dpgb6bY1_sDq"
      },
      "execution_count": 32,
      "outputs": []
    },
    {
      "cell_type": "markdown",
      "source": [
        "How many records are in the data set?\n",
        "\n",
        "- 1308 entries\n",
        "\n",
        "Which important variables(s) are missing values and how many are missing?\n",
        "\n",
        "- Age is missing 263 entries\n",
        "\n",
        "Step 2: Prepare the data.\n",
        "\n",
        "a) Remove the \"male\" and \"female\" strings and replace them with 0 and 1 respectively."
      ],
      "metadata": {
        "id": "8oAXdLCz0d1u"
      }
    },
    {
      "cell_type": "code",
      "source": [
        "#code cell 23\n",
        "#Label the gender variable with 0 and 1\n",
        "all_data[\"Sex\"] = all_data[\"Sex\"].apply(lambda toLabel: 0 if toLabel =='male' else 1)"
      ],
      "metadata": {
        "id": "lxZdpm770hE9"
      },
      "execution_count": 33,
      "outputs": []
    },
    {
      "cell_type": "markdown",
      "source": [
        "c) Replace the missing age values with the mean of the age of all members of the data set."
      ],
      "metadata": {
        "id": "HJg6_Wl00iq-"
      }
    },
    {
      "cell_type": "code",
      "source": [
        "#code cell 24\n",
        "#replace missing Age values with the mean age\n",
        "all_data[\"Age\"].fillna(all_data[\"Age\"].mean(), inplace=True)\n",
        "#display the first few rows of the data set\n",
        "all_data.head()"
      ],
      "metadata": {
        "colab": {
          "base_uri": "https://localhost:8080/",
          "height": 206
        },
        "id": "eJJshfzD0kxX",
        "outputId": "6c5b3069-bc28-4059-bd4e-bd3cb1473037"
      },
      "execution_count": 34,
      "outputs": [
        {
          "output_type": "execute_result",
          "data": {
            "text/plain": [
              "   Survived  Pclass  Sex      Age  SibSp      Fare\n",
              "0         1       1    1  29.0000      0  211.3375\n",
              "1         1       1    0   0.9167      1  151.5500\n",
              "2         0       1    1   2.0000      1  151.5500\n",
              "3         0       1    0  30.0000      1  151.5500\n",
              "4         0       1    1  25.0000      1  151.5500"
            ],
            "text/html": [
              "\n",
              "  <div id=\"df-a12329fa-7ec2-4daa-b38d-c6965a24b846\" class=\"colab-df-container\">\n",
              "    <div>\n",
              "<style scoped>\n",
              "    .dataframe tbody tr th:only-of-type {\n",
              "        vertical-align: middle;\n",
              "    }\n",
              "\n",
              "    .dataframe tbody tr th {\n",
              "        vertical-align: top;\n",
              "    }\n",
              "\n",
              "    .dataframe thead th {\n",
              "        text-align: right;\n",
              "    }\n",
              "</style>\n",
              "<table border=\"1\" class=\"dataframe\">\n",
              "  <thead>\n",
              "    <tr style=\"text-align: right;\">\n",
              "      <th></th>\n",
              "      <th>Survived</th>\n",
              "      <th>Pclass</th>\n",
              "      <th>Sex</th>\n",
              "      <th>Age</th>\n",
              "      <th>SibSp</th>\n",
              "      <th>Fare</th>\n",
              "    </tr>\n",
              "  </thead>\n",
              "  <tbody>\n",
              "    <tr>\n",
              "      <th>0</th>\n",
              "      <td>1</td>\n",
              "      <td>1</td>\n",
              "      <td>1</td>\n",
              "      <td>29.0000</td>\n",
              "      <td>0</td>\n",
              "      <td>211.3375</td>\n",
              "    </tr>\n",
              "    <tr>\n",
              "      <th>1</th>\n",
              "      <td>1</td>\n",
              "      <td>1</td>\n",
              "      <td>0</td>\n",
              "      <td>0.9167</td>\n",
              "      <td>1</td>\n",
              "      <td>151.5500</td>\n",
              "    </tr>\n",
              "    <tr>\n",
              "      <th>2</th>\n",
              "      <td>0</td>\n",
              "      <td>1</td>\n",
              "      <td>1</td>\n",
              "      <td>2.0000</td>\n",
              "      <td>1</td>\n",
              "      <td>151.5500</td>\n",
              "    </tr>\n",
              "    <tr>\n",
              "      <th>3</th>\n",
              "      <td>0</td>\n",
              "      <td>1</td>\n",
              "      <td>0</td>\n",
              "      <td>30.0000</td>\n",
              "      <td>1</td>\n",
              "      <td>151.5500</td>\n",
              "    </tr>\n",
              "    <tr>\n",
              "      <th>4</th>\n",
              "      <td>0</td>\n",
              "      <td>1</td>\n",
              "      <td>1</td>\n",
              "      <td>25.0000</td>\n",
              "      <td>1</td>\n",
              "      <td>151.5500</td>\n",
              "    </tr>\n",
              "  </tbody>\n",
              "</table>\n",
              "</div>\n",
              "    <div class=\"colab-df-buttons\">\n",
              "\n",
              "  <div class=\"colab-df-container\">\n",
              "    <button class=\"colab-df-convert\" onclick=\"convertToInteractive('df-a12329fa-7ec2-4daa-b38d-c6965a24b846')\"\n",
              "            title=\"Convert this dataframe to an interactive table.\"\n",
              "            style=\"display:none;\">\n",
              "\n",
              "  <svg xmlns=\"http://www.w3.org/2000/svg\" height=\"24px\" viewBox=\"0 -960 960 960\">\n",
              "    <path d=\"M120-120v-720h720v720H120Zm60-500h600v-160H180v160Zm220 220h160v-160H400v160Zm0 220h160v-160H400v160ZM180-400h160v-160H180v160Zm440 0h160v-160H620v160ZM180-180h160v-160H180v160Zm440 0h160v-160H620v160Z\"/>\n",
              "  </svg>\n",
              "    </button>\n",
              "\n",
              "  <style>\n",
              "    .colab-df-container {\n",
              "      display:flex;\n",
              "      gap: 12px;\n",
              "    }\n",
              "\n",
              "    .colab-df-convert {\n",
              "      background-color: #E8F0FE;\n",
              "      border: none;\n",
              "      border-radius: 50%;\n",
              "      cursor: pointer;\n",
              "      display: none;\n",
              "      fill: #1967D2;\n",
              "      height: 32px;\n",
              "      padding: 0 0 0 0;\n",
              "      width: 32px;\n",
              "    }\n",
              "\n",
              "    .colab-df-convert:hover {\n",
              "      background-color: #E2EBFA;\n",
              "      box-shadow: 0px 1px 2px rgba(60, 64, 67, 0.3), 0px 1px 3px 1px rgba(60, 64, 67, 0.15);\n",
              "      fill: #174EA6;\n",
              "    }\n",
              "\n",
              "    .colab-df-buttons div {\n",
              "      margin-bottom: 4px;\n",
              "    }\n",
              "\n",
              "    [theme=dark] .colab-df-convert {\n",
              "      background-color: #3B4455;\n",
              "      fill: #D2E3FC;\n",
              "    }\n",
              "\n",
              "    [theme=dark] .colab-df-convert:hover {\n",
              "      background-color: #434B5C;\n",
              "      box-shadow: 0px 1px 3px 1px rgba(0, 0, 0, 0.15);\n",
              "      filter: drop-shadow(0px 1px 2px rgba(0, 0, 0, 0.3));\n",
              "      fill: #FFFFFF;\n",
              "    }\n",
              "  </style>\n",
              "\n",
              "    <script>\n",
              "      const buttonEl =\n",
              "        document.querySelector('#df-a12329fa-7ec2-4daa-b38d-c6965a24b846 button.colab-df-convert');\n",
              "      buttonEl.style.display =\n",
              "        google.colab.kernel.accessAllowed ? 'block' : 'none';\n",
              "\n",
              "      async function convertToInteractive(key) {\n",
              "        const element = document.querySelector('#df-a12329fa-7ec2-4daa-b38d-c6965a24b846');\n",
              "        const dataTable =\n",
              "          await google.colab.kernel.invokeFunction('convertToInteractive',\n",
              "                                                    [key], {});\n",
              "        if (!dataTable) return;\n",
              "\n",
              "        const docLinkHtml = 'Like what you see? Visit the ' +\n",
              "          '<a target=\"_blank\" href=https://colab.research.google.com/notebooks/data_table.ipynb>data table notebook</a>'\n",
              "          + ' to learn more about interactive tables.';\n",
              "        element.innerHTML = '';\n",
              "        dataTable['output_type'] = 'display_data';\n",
              "        await google.colab.output.renderOutput(dataTable, element);\n",
              "        const docLink = document.createElement('div');\n",
              "        docLink.innerHTML = docLinkHtml;\n",
              "        element.appendChild(docLink);\n",
              "      }\n",
              "    </script>\n",
              "  </div>\n",
              "\n",
              "\n",
              "<div id=\"df-60752105-c5fc-4371-bc0a-dfba70e64494\">\n",
              "  <button class=\"colab-df-quickchart\" onclick=\"quickchart('df-60752105-c5fc-4371-bc0a-dfba70e64494')\"\n",
              "            title=\"Suggest charts\"\n",
              "            style=\"display:none;\">\n",
              "\n",
              "<svg xmlns=\"http://www.w3.org/2000/svg\" height=\"24px\"viewBox=\"0 0 24 24\"\n",
              "     width=\"24px\">\n",
              "    <g>\n",
              "        <path d=\"M19 3H5c-1.1 0-2 .9-2 2v14c0 1.1.9 2 2 2h14c1.1 0 2-.9 2-2V5c0-1.1-.9-2-2-2zM9 17H7v-7h2v7zm4 0h-2V7h2v10zm4 0h-2v-4h2v4z\"/>\n",
              "    </g>\n",
              "</svg>\n",
              "  </button>\n",
              "\n",
              "<style>\n",
              "  .colab-df-quickchart {\n",
              "      --bg-color: #E8F0FE;\n",
              "      --fill-color: #1967D2;\n",
              "      --hover-bg-color: #E2EBFA;\n",
              "      --hover-fill-color: #174EA6;\n",
              "      --disabled-fill-color: #AAA;\n",
              "      --disabled-bg-color: #DDD;\n",
              "  }\n",
              "\n",
              "  [theme=dark] .colab-df-quickchart {\n",
              "      --bg-color: #3B4455;\n",
              "      --fill-color: #D2E3FC;\n",
              "      --hover-bg-color: #434B5C;\n",
              "      --hover-fill-color: #FFFFFF;\n",
              "      --disabled-bg-color: #3B4455;\n",
              "      --disabled-fill-color: #666;\n",
              "  }\n",
              "\n",
              "  .colab-df-quickchart {\n",
              "    background-color: var(--bg-color);\n",
              "    border: none;\n",
              "    border-radius: 50%;\n",
              "    cursor: pointer;\n",
              "    display: none;\n",
              "    fill: var(--fill-color);\n",
              "    height: 32px;\n",
              "    padding: 0;\n",
              "    width: 32px;\n",
              "  }\n",
              "\n",
              "  .colab-df-quickchart:hover {\n",
              "    background-color: var(--hover-bg-color);\n",
              "    box-shadow: 0 1px 2px rgba(60, 64, 67, 0.3), 0 1px 3px 1px rgba(60, 64, 67, 0.15);\n",
              "    fill: var(--button-hover-fill-color);\n",
              "  }\n",
              "\n",
              "  .colab-df-quickchart-complete:disabled,\n",
              "  .colab-df-quickchart-complete:disabled:hover {\n",
              "    background-color: var(--disabled-bg-color);\n",
              "    fill: var(--disabled-fill-color);\n",
              "    box-shadow: none;\n",
              "  }\n",
              "\n",
              "  .colab-df-spinner {\n",
              "    border: 2px solid var(--fill-color);\n",
              "    border-color: transparent;\n",
              "    border-bottom-color: var(--fill-color);\n",
              "    animation:\n",
              "      spin 1s steps(1) infinite;\n",
              "  }\n",
              "\n",
              "  @keyframes spin {\n",
              "    0% {\n",
              "      border-color: transparent;\n",
              "      border-bottom-color: var(--fill-color);\n",
              "      border-left-color: var(--fill-color);\n",
              "    }\n",
              "    20% {\n",
              "      border-color: transparent;\n",
              "      border-left-color: var(--fill-color);\n",
              "      border-top-color: var(--fill-color);\n",
              "    }\n",
              "    30% {\n",
              "      border-color: transparent;\n",
              "      border-left-color: var(--fill-color);\n",
              "      border-top-color: var(--fill-color);\n",
              "      border-right-color: var(--fill-color);\n",
              "    }\n",
              "    40% {\n",
              "      border-color: transparent;\n",
              "      border-right-color: var(--fill-color);\n",
              "      border-top-color: var(--fill-color);\n",
              "    }\n",
              "    60% {\n",
              "      border-color: transparent;\n",
              "      border-right-color: var(--fill-color);\n",
              "    }\n",
              "    80% {\n",
              "      border-color: transparent;\n",
              "      border-right-color: var(--fill-color);\n",
              "      border-bottom-color: var(--fill-color);\n",
              "    }\n",
              "    90% {\n",
              "      border-color: transparent;\n",
              "      border-bottom-color: var(--fill-color);\n",
              "    }\n",
              "  }\n",
              "</style>\n",
              "\n",
              "  <script>\n",
              "    async function quickchart(key) {\n",
              "      const quickchartButtonEl =\n",
              "        document.querySelector('#' + key + ' button');\n",
              "      quickchartButtonEl.disabled = true;  // To prevent multiple clicks.\n",
              "      quickchartButtonEl.classList.add('colab-df-spinner');\n",
              "      try {\n",
              "        const charts = await google.colab.kernel.invokeFunction(\n",
              "            'suggestCharts', [key], {});\n",
              "      } catch (error) {\n",
              "        console.error('Error during call to suggestCharts:', error);\n",
              "      }\n",
              "      quickchartButtonEl.classList.remove('colab-df-spinner');\n",
              "      quickchartButtonEl.classList.add('colab-df-quickchart-complete');\n",
              "    }\n",
              "    (() => {\n",
              "      let quickchartButtonEl =\n",
              "        document.querySelector('#df-60752105-c5fc-4371-bc0a-dfba70e64494 button');\n",
              "      quickchartButtonEl.style.display =\n",
              "        google.colab.kernel.accessAllowed ? 'block' : 'none';\n",
              "    })();\n",
              "  </script>\n",
              "</div>\n",
              "    </div>\n",
              "  </div>\n"
            ],
            "application/vnd.google.colaboratory.intrinsic+json": {
              "type": "dataframe",
              "variable_name": "all_data",
              "summary": "{\n  \"name\": \"all_data\",\n  \"rows\": 1308,\n  \"fields\": [\n    {\n      \"column\": \"Survived\",\n      \"properties\": {\n        \"dtype\": \"number\",\n        \"std\": 0,\n        \"min\": 0,\n        \"max\": 1,\n        \"num_unique_values\": 2,\n        \"samples\": [\n          0,\n          1\n        ],\n        \"semantic_type\": \"\",\n        \"description\": \"\"\n      }\n    },\n    {\n      \"column\": \"Pclass\",\n      \"properties\": {\n        \"dtype\": \"number\",\n        \"std\": 0,\n        \"min\": 1,\n        \"max\": 3,\n        \"num_unique_values\": 3,\n        \"samples\": [\n          1,\n          2\n        ],\n        \"semantic_type\": \"\",\n        \"description\": \"\"\n      }\n    },\n    {\n      \"column\": \"Sex\",\n      \"properties\": {\n        \"dtype\": \"number\",\n        \"std\": 0,\n        \"min\": 0,\n        \"max\": 1,\n        \"num_unique_values\": 2,\n        \"samples\": [\n          0,\n          1\n        ],\n        \"semantic_type\": \"\",\n        \"description\": \"\"\n      }\n    },\n    {\n      \"column\": \"Age\",\n      \"properties\": {\n        \"dtype\": \"number\",\n        \"std\": 12.860241791360886,\n        \"min\": 0.1667,\n        \"max\": 80.0,\n        \"num_unique_values\": 98,\n        \"samples\": [\n          6.0,\n          64.0\n        ],\n        \"semantic_type\": \"\",\n        \"description\": \"\"\n      }\n    },\n    {\n      \"column\": \"SibSp\",\n      \"properties\": {\n        \"dtype\": \"number\",\n        \"std\": 1,\n        \"min\": 0,\n        \"max\": 8,\n        \"num_unique_values\": 7,\n        \"samples\": [\n          0,\n          1\n        ],\n        \"semantic_type\": \"\",\n        \"description\": \"\"\n      }\n    },\n    {\n      \"column\": \"Fare\",\n      \"properties\": {\n        \"dtype\": \"number\",\n        \"std\": 51.75866823917411,\n        \"min\": 0.0,\n        \"max\": 512.3292,\n        \"num_unique_values\": 281,\n        \"samples\": [\n          5.0,\n          9.35\n        ],\n        \"semantic_type\": \"\",\n        \"description\": \"\"\n      }\n    }\n  ]\n}"
            }
          },
          "metadata": {},
          "execution_count": 34
        }
      ]
    },
    {
      "cell_type": "markdown",
      "source": [
        "Step 2: Create the input and output variables for the training and testing data.\n",
        "\n",
        "The sklearn library includes modules that help with model selection. We will import from\n",
        "sklearn.model_selection the train_test_split() method. This method will automatically split the entire\n",
        "dataset, returning in total four numpy arrays, two for the features (test and validation) and two for the labels (test\n",
        "and validation). One parameter of the method specifies the proportion of observations to use for testing and\n",
        "training. Another parameter specifies a seed value that will be used to randomize assignment of the observation\n",
        "to testing or training. This is used so that another user can replicate your work by receiving the same\n",
        "assignments of observations to datasets. The syntax of the method is:\n",
        "\n",
        "```train_test_split(input_X, target_y, test_size=0.4, random_state=0)```\n",
        "\n",
        "40% of the data will be used for testing. The random seed is set to 0.\n",
        "The method returns four values. These values are the input varibles for training and testing data and the target\n",
        "variables for the training and testing data in that order.\n",
        "\n",
        "a) Designate the input variables and output variables and generate the arrays."
      ],
      "metadata": {
        "id": "kNoJ1hiO0m9_"
      }
    },
    {
      "cell_type": "code",
      "source": [
        "#code cell 25\n",
        "#Import train_test_split() from the sklearn.model_selection libary\n",
        "from sklearn.model_selection import train_test_split\n",
        "#create the input and target variables as uppercase X and lowercase y. Reuse the columns variable.\n",
        "X = all_data[list(columns)].values\n",
        "y = all_data[\"Survived\"].values\n",
        "#generate the four testing and training data arrays with the train_test_split() method\n",
        "X_train,X_test,y_train,y_test=train_test_split(X, y, test_size=0.40, random_state=0)"
      ],
      "metadata": {
        "id": "OVwVT2Fy0uAG"
      },
      "execution_count": 35,
      "outputs": []
    },
    {
      "cell_type": "markdown",
      "source": [
        "b) Train the model and fit it to the testing data.\n",
        "  \n",
        "Now the model can be fit again. The model will be trained using only the training datat, as selected by the\n",
        "train_test_split function."
      ],
      "metadata": {
        "id": "eJToA1vC0vU-"
      }
    },
    {
      "cell_type": "code",
      "source": [
        "#code cell 26\n",
        "#create the training decision tree object\n",
        "clf_train = tree.DecisionTreeClassifier(criterion=\"entropy\", max_depth=3)\n",
        "#fit the training model using the input and target variables\n",
        "clf_train = clf_train.fit(X_train, y_train)"
      ],
      "metadata": {
        "id": "bZesZyS90zAW"
      },
      "execution_count": 36,
      "outputs": []
    },
    {
      "cell_type": "markdown",
      "source": [
        "c) Compare models by scoring each.\n",
        "\n",
        "Use the score() method of each decision tree object to generate scores."
      ],
      "metadata": {
        "id": "_FffjiEh00iP"
      }
    },
    {
      "cell_type": "code",
      "source": [
        "#code cell 27\n",
        "#score the model on the two datasets and store the scores in variables. Convert the scores to strings using str()\n",
        "train_score = str(clf_train.score(X_train,y_train))\n",
        "test_score = str(clf_train.score(X_test,y_test))\n",
        "#output the values in a test string\n",
        "print('Training score = '+ train_score+' Testing score = '+test_score)"
      ],
      "metadata": {
        "colab": {
          "base_uri": "https://localhost:8080/"
        },
        "id": "q4CF9Big02lO",
        "outputId": "2e66e71f-1584-4aa9-c700-123fa3a6fc35"
      },
      "execution_count": 137,
      "outputs": [
        {
          "output_type": "stream",
          "name": "stdout",
          "text": [
            "Training score = 0.8201530612244898 Testing score = 0.8053435114503816\n"
          ]
        }
      ]
    },
    {
      "cell_type": "markdown",
      "source": [
        "We have now compared the scores for the trained model on both test and validation data. As expected, the test\n",
        "accuracy score is close, but lower than the score for the training data. This is because normally, the model tends\n",
        "to overfit the training data, therefore the test score is a better evaluation of how the model is able to generalize\n",
        "outside of the training data."
      ],
      "metadata": {
        "id": "CpZ1O7g_03_2"
      }
    },
    {
      "cell_type": "markdown",
      "source": [
        "Part 4 For Further Study (optional)\n",
        "\n",
        "If you have the time and are interested, you could try the following and see how the decision tree is affected.\n",
        "\n",
        "1. Remove observations with missing Age values.\n",
        "\n",
        "Using a mean to replace missing age values may affect the accuracy of the model. One approach to this might\n",
        "be to remove all observations with missing age values. Although this will decrease the size of the training\n",
        "dataset, it could improve accuracy.\n",
        "\n"
      ],
      "metadata": {
        "id": "tQWQr_hM06Nn"
      }
    },
    {
      "cell_type": "code",
      "source": [
        "# Function to check accuracy when missing value are removed from the dataset\n",
        "\n",
        "\n",
        "def removedNaAcc (datafile, columnNa):\n",
        "  # read dataset and remove missing values\n",
        "  dataset = pd.read_csv(datafile)\n",
        "  dataset.dropna(subset=[columnNa], inplace=True)\n",
        "  # set sex as numeric value so we can put it in the decisison tree\n",
        "  dataset[\"Sex\"] = dataset[\"Sex\"].apply(lambda toLabel: 0 if toLabel =='male' else 1)\n",
        "\n",
        "  # create variable that will be the target of the model\n",
        "  y_target = dataset[\"Survived\"].values\n",
        "\n",
        "  # imput variables\n",
        "  columns = [\"Fare\", \"Pclass\", \"Sex\", \"Age\", \"SibSp\"]\n",
        "  X_input = dataset[list(columns)].values\n",
        "\n",
        "  global clf_dataset\n",
        "  clf_dataset = tree.DecisionTreeClassifier(criterion=\"entropy\", max_depth=3)\n",
        "\n",
        "  # train model\n",
        "  clf_dataset = clf_dataset.fit(X_input, y_target)\n",
        "\n",
        "  # get accuracy\n",
        "  score = clf_dataset.score(X_input,y_target)\n",
        "  print(\"Percentage accuracy made by the classifier :\" , score)"
      ],
      "metadata": {
        "id": "jIKBcRtW4FUq"
      },
      "execution_count": 147,
      "outputs": []
    },
    {
      "cell_type": "code",
      "source": [
        "def applyModel (test_data, all_data):\n",
        "  # import file and change Sex column to numeric value\n",
        "  testing = pd.read_csv(test_data)\n",
        "  testing[\"Sex\"] = testing[\"Sex\"].apply(lambda toLabel: 0 if toLabel =='male' else 1)\n",
        "  # drop missing entries\n",
        "  testing.dropna(subset=[\"Age\", \"Fare\"], inplace=True)\n",
        "  columns = [\"Fare\", \"Pclass\", \"Sex\", \"Age\", \"SibSp\"]\n",
        "  X_input = testing[list(columns)].values\n",
        "  target_labels = clf_dataset.predict(X_input)\n",
        "  target_labels = pd.DataFrame({'Est_Survival':target_labels, 'Name':testing['Name']})\n",
        "\n",
        "  all_data = pd.read_csv(all_data)\n",
        "  testing_results = pd.merge(target_labels, all_data[['Name','Survived']], on=['Name'])\n",
        "  #check accuracy\n",
        "  acc = np.sum(testing_results['Est_Survival'] == testing_results['Survived']) /float(len(testing_results))\n",
        "  print(\"Accuracy of learned model: \" , acc)"
      ],
      "metadata": {
        "id": "qIckgAL8MpuL"
      },
      "execution_count": 148,
      "outputs": []
    },
    {
      "cell_type": "code",
      "source": [
        "def evaluate (alldata):\n",
        "  # import dataset with the following columns\n",
        "  all_data = pd.read_csv(alldata, usecols=['Survived','Pclass','Gender','Age','SibSp','Fare'])\n",
        "  # rename column\n",
        "  all_data.rename(columns = {'Gender':'Sex'}, inplace = True)\n",
        "  # change sex to numeric value\n",
        "  all_data[\"Sex\"] = all_data[\"Sex\"].apply(lambda toLabel: 0 if toLabel =='male' else 1)\n",
        "  # drop missing entries\n",
        "  all_data.dropna(subset=[\"Age\"], inplace=True)\n",
        "  X = all_data[list(columns)].values\n",
        "  y = all_data[\"Survived\"].values\n",
        "  # split the data set\n",
        "  X_train,X_test,y_train,y_test=train_test_split(X, y, test_size=0.40, random_state=0)\n",
        "  clf_train = tree.DecisionTreeClassifier(criterion=\"entropy\", max_depth=3)\n",
        "  clf_train = clf_train.fit(X_train, y_train)\n",
        "  # compare two scores\n",
        "  train_score = str(clf_train.score(X_train,y_train))\n",
        "  test_score = str(clf_train.score(X_test,y_test))\n",
        "  print('Training score = '+ train_score+' Testing score = '+test_score)"
      ],
      "metadata": {
        "id": "ktQHnJPSQ_Fb"
      },
      "execution_count": 145,
      "outputs": []
    },
    {
      "cell_type": "code",
      "source": [
        "# call function\n",
        "removedNaAcc(\"titanic_train.csv\", \"Age\")\n",
        "applyModel(\"titanic_test.csv\", \"titanic_all.csv\")\n",
        "evaluate(\"titanic_all.csv\")"
      ],
      "metadata": {
        "colab": {
          "base_uri": "https://localhost:8080/"
        },
        "id": "gXA5ifFr4GbD",
        "outputId": "386a3850-e371-4a85-e96b-7c3a8c261d20"
      },
      "execution_count": 149,
      "outputs": [
        {
          "output_type": "stream",
          "name": "stdout",
          "text": [
            "Percentage accuracy made by the classifier : 0.8095238095238095\n",
            "Accuracy of learned model:  0.774294670846395\n",
            "Training score = 0.8070175438596491 Testing score = 0.7990430622009569\n"
          ]
        }
      ]
    },
    {
      "cell_type": "code",
      "source": [],
      "metadata": {
        "id": "BQrWwKzOHSNO"
      },
      "execution_count": 108,
      "outputs": []
    },
    {
      "cell_type": "markdown",
      "source": [
        "2. Remove the input variables.\n",
        "\n",
        "Another issue with this type of analysis is the identification of which input variables, or features, are essential to\n",
        "the accuracy of the classifier. One way to do this is to try running the classifier with different sets of input\n",
        "variables by editing the list of variables that is used to fit the model."
      ],
      "metadata": {
        "id": "tzL4fCalrV8e"
      }
    },
    {
      "cell_type": "code",
      "source": [
        "# Function to specify input variable for the model\n",
        "# Included dropping the NA values to have better accuracy\n",
        "\n",
        "def specificInVars (datafile, columnNa, input_vars):\n",
        "  # read dataset and remove missing values\n",
        "  dataset = pd.read_csv(datafile)\n",
        "  dataset.dropna(subset=[columnNa], inplace=True)\n",
        "\n",
        "  # set sex as numeric value so we can put it in the decisison tree\n",
        "  dataset[\"Sex\"] = dataset[\"Sex\"].apply(lambda toLabel: 0 if toLabel =='male' else 1)\n",
        "\n",
        "  # create variable that will be the target of the model\n",
        "  y_target = dataset[\"Survived\"].values\n",
        "\n",
        "  # specified input variables\n",
        "  X_input = dataset[list(input_vars)].values\n",
        "\n",
        "  global clf_dataset2\n",
        "  clf_dataset2 = tree.DecisionTreeClassifier(criterion=\"entropy\", max_depth=3)\n",
        "\n",
        "  # train model\n",
        "  clf_dataset2 = clf_dataset2.fit(X_input, y_target)\n",
        "\n",
        "  # get accuracy\n",
        "  score = clf_dataset2.score(X_input,y_target)\n",
        "  print(\"Percentage accuracy made by the classifier :\" , score)"
      ],
      "metadata": {
        "id": "JQICDhuoLHil"
      },
      "execution_count": 158,
      "outputs": []
    },
    {
      "cell_type": "code",
      "source": [
        "def applyModel2 (test_data, all_data, input_vars):\n",
        "  # import dataset\n",
        "  testing = pd.read_csv(test_data)\n",
        "  testing[\"Sex\"] = testing[\"Sex\"].apply(lambda toLabel: 0 if toLabel =='male' else 1)\n",
        "  testing.dropna(subset=[\"Age\"], inplace=True)\n",
        "  X_input = testing[list(input_vars)].values\n",
        "  target_labels = clf_dataset2.predict(X_input)\n",
        "  target_labels = pd.DataFrame({'Est_Survival':target_labels, 'Name':testing['Name']})\n",
        "\n",
        "  all_data = pd.read_csv(all_data)\n",
        "  testing_results = pd.merge(target_labels, all_data[['Name','Survived']], on=['Name'])\n",
        "  acc = np.sum(testing_results['Est_Survival'] == testing_results['Survived']) /float(len(testing_results))\n",
        "  print(\"Accuracy of learned model: \" , acc)"
      ],
      "metadata": {
        "id": "ROBnmfWxYfP3"
      },
      "execution_count": 161,
      "outputs": []
    },
    {
      "cell_type": "code",
      "source": [
        "def evaluate2 (alldata, input_vars):\n",
        "  all_data = pd.read_csv(alldata, usecols=['Survived',\"Gender\",\"Age\",\"SibSp\"])\n",
        "  all_data.rename(columns = {'Gender':'Sex'}, inplace = True)\n",
        "  all_data[\"Sex\"] = all_data[\"Sex\"].apply(lambda toLabel: 0 if toLabel =='male' else 1)\n",
        "  all_data.dropna(subset=[\"Age\"], inplace=True)\n",
        "  X = all_data[list(input_vars)].values\n",
        "  y = all_data[\"Survived\"].values\n",
        "  X_train,X_test,y_train,y_test=train_test_split(X, y, test_size=0.40, random_state=0)\n",
        "  clf_train = tree.DecisionTreeClassifier(criterion=\"entropy\", max_depth=3)\n",
        "  clf_train = clf_train.fit(X_train, y_train)\n",
        "  train_score = str(clf_train.score(X_train,y_train))\n",
        "  test_score = str(clf_train.score(X_test,y_test))\n",
        "  print('Training score = '+ train_score+' Testing score = '+test_score)"
      ],
      "metadata": {
        "id": "AIItXTcPZ1Cb"
      },
      "execution_count": 173,
      "outputs": []
    },
    {
      "cell_type": "code",
      "source": [
        "# After trying the variables one by one, this combination provided the highest accuracy\n",
        "variables = [\"Sex\", \"Age\", \"SibSp\"]\n",
        "specificInVars(\"titanic_train.csv\", \"Age\", variables)\n",
        "applyModel2 (\"titanic_test.csv\", \"titanic_all.csv\", variables)\n",
        "evaluate2 (\"titanic_all.csv\", variables)"
      ],
      "metadata": {
        "colab": {
          "base_uri": "https://localhost:8080/"
        },
        "id": "nEccODBe55y8",
        "outputId": "4d999188-8b21-4671-a044-08cd4c763f0c"
      },
      "execution_count": 174,
      "outputs": [
        {
          "output_type": "stream",
          "name": "stdout",
          "text": [
            "Percentage accuracy made by the classifier : 0.8179271708683473\n",
            "Accuracy of learned model:  0.7836990595611285\n",
            "Training score = 0.8070175438596491 Testing score = 0.7990430622009569\n"
          ]
        }
      ]
    },
    {
      "cell_type": "markdown",
      "source": [
        "**Conclusion**\n",
        "- In this laboratory activity, I was able to perform decision tree classification from a dataset. I was also able to apply different functions to prepare the data from the dataset such as filling missing data in the dataset and rename columns. After performing a decision tree classification, I was able to apply the decision tree model and evaluate it. I was also able to dropping all of the NA valeus in the dataset to increase the accuracy of the model"
      ],
      "metadata": {
        "id": "IBdjoT9OMwX-"
      }
    }
  ]
}