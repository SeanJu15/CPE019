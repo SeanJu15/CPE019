{
  "nbformat": 4,
  "nbformat_minor": 0,
  "metadata": {
    "colab": {
      "provenance": []
    },
    "kernelspec": {
      "name": "python3",
      "display_name": "Python 3"
    },
    "language_info": {
      "name": "python"
    }
  },
  "cells": [
    {
      "cell_type": "code",
      "source": [
        "import pandas as pd\n",
        "import numpy as np"
      ],
      "metadata": {
        "id": "vX4PCkXyxzZW"
      },
      "execution_count": 14,
      "outputs": []
    },
    {
      "cell_type": "code",
      "execution_count": 15,
      "metadata": {
        "id": "ILLxKvVPxU0n"
      },
      "outputs": [],
      "source": [
        "exam_data = {'name': ['Anastasia', 'Dima', 'Katherine', 'James', 'Emily', 'Michael', 'Matthew', 'Laura', 'Kevin', 'Jonas'],\n",
        "             'score': [12.5, 9, 16.5, np.nan, 9, 20, 14.5, np.nan, 8, 19],\n",
        "             'attempts': [1, 3, 2, 3, 2, 3, 1, 1, 2, 1],\n",
        "             'qualify': ['yes', 'no', 'yes', 'no', 'no', 'yes', 'yes', 'no', 'no', 'yes']}\n",
        "\n",
        "labels = ['a', 'b', 'c', 'd', 'e', 'f', 'g', 'h', 'i', 'j']"
      ]
    },
    {
      "cell_type": "code",
      "source": [
        "df = pd.DataFrame(exam_data)"
      ],
      "metadata": {
        "id": "JWepd0aKy7hs"
      },
      "execution_count": 16,
      "outputs": []
    },
    {
      "cell_type": "code",
      "source": [
        "print(df[\"attempts\"])\n",
        "print(df[\"qualify\"])"
      ],
      "metadata": {
        "colab": {
          "base_uri": "https://localhost:8080/"
        },
        "id": "-kzkKGHkzbU9",
        "outputId": "ccbde9df-c82c-47e9-a6a0-0170f840d889"
      },
      "execution_count": 17,
      "outputs": [
        {
          "output_type": "stream",
          "name": "stdout",
          "text": [
            "0    1\n",
            "1    3\n",
            "2    2\n",
            "3    3\n",
            "4    2\n",
            "5    3\n",
            "6    1\n",
            "7    1\n",
            "8    2\n",
            "9    1\n",
            "Name: attempts, dtype: int64\n",
            "0    yes\n",
            "1     no\n",
            "2    yes\n",
            "3     no\n",
            "4     no\n",
            "5    yes\n",
            "6    yes\n",
            "7     no\n",
            "8     no\n",
            "9    yes\n",
            "Name: qualify, dtype: object\n"
          ]
        }
      ]
    },
    {
      "cell_type": "code",
      "source": [],
      "metadata": {
        "id": "ss_jmiLVz36t"
      },
      "execution_count": null,
      "outputs": []
    }
  ]
}